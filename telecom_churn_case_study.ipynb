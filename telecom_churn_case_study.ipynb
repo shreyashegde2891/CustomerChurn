{
 "cells": [
  {
   "cell_type": "code",
   "execution_count": 1,
   "metadata": {},
   "outputs": [],
   "source": [
    "# Import required libraries\n",
    "import numpy as np\n",
    "import pandas as pd\n",
    "import matplotlib.pyplot as plt\n",
    "import seaborn as sns\n",
    "%matplotlib inline\n",
    "\n",
    "#read data\n",
    "telecom_data = pd.read_csv('E:\\\\learning\\\\PCA demo\\\\Assignment\\\\telecom_churn_data.csv', low_memory=False)"
   ]
  },
  {
   "cell_type": "code",
   "execution_count": 2,
   "metadata": {},
   "outputs": [
    {
     "name": "stdout",
     "output_type": "stream",
     "text": [
      "Dataframe Shape:  (99999, 226)\n",
      "Dataframe Info: \n",
      "<class 'pandas.core.frame.DataFrame'>\n",
      "RangeIndex: 99999 entries, 0 to 99998\n",
      "Columns: 226 entries, mobile_number to sep_vbc_3g\n",
      "dtypes: float64(179), int64(35), object(12)\n",
      "memory usage: 172.4+ MB\n"
     ]
    },
    {
     "data": {
      "text/html": [
       "<div>\n",
       "<style scoped>\n",
       "    .dataframe tbody tr th:only-of-type {\n",
       "        vertical-align: middle;\n",
       "    }\n",
       "\n",
       "    .dataframe tbody tr th {\n",
       "        vertical-align: top;\n",
       "    }\n",
       "\n",
       "    .dataframe thead th {\n",
       "        text-align: right;\n",
       "    }\n",
       "</style>\n",
       "<table border=\"1\" class=\"dataframe\">\n",
       "  <thead>\n",
       "    <tr style=\"text-align: right;\">\n",
       "      <th></th>\n",
       "      <th>mobile_number</th>\n",
       "      <th>circle_id</th>\n",
       "      <th>loc_og_t2o_mou</th>\n",
       "      <th>std_og_t2o_mou</th>\n",
       "      <th>loc_ic_t2o_mou</th>\n",
       "      <th>last_date_of_month_6</th>\n",
       "      <th>last_date_of_month_7</th>\n",
       "      <th>last_date_of_month_8</th>\n",
       "      <th>last_date_of_month_9</th>\n",
       "      <th>arpu_6</th>\n",
       "      <th>...</th>\n",
       "      <th>sachet_3g_9</th>\n",
       "      <th>fb_user_6</th>\n",
       "      <th>fb_user_7</th>\n",
       "      <th>fb_user_8</th>\n",
       "      <th>fb_user_9</th>\n",
       "      <th>aon</th>\n",
       "      <th>aug_vbc_3g</th>\n",
       "      <th>jul_vbc_3g</th>\n",
       "      <th>jun_vbc_3g</th>\n",
       "      <th>sep_vbc_3g</th>\n",
       "    </tr>\n",
       "  </thead>\n",
       "  <tbody>\n",
       "    <tr>\n",
       "      <th>0</th>\n",
       "      <td>7000842753</td>\n",
       "      <td>109</td>\n",
       "      <td>0.0</td>\n",
       "      <td>0.0</td>\n",
       "      <td>0.0</td>\n",
       "      <td>6/30/2014</td>\n",
       "      <td>7/31/2014</td>\n",
       "      <td>8/31/2014</td>\n",
       "      <td>9/30/2014</td>\n",
       "      <td>197.385</td>\n",
       "      <td>...</td>\n",
       "      <td>0</td>\n",
       "      <td>1.0</td>\n",
       "      <td>1.0</td>\n",
       "      <td>1.0</td>\n",
       "      <td>NaN</td>\n",
       "      <td>968</td>\n",
       "      <td>30.4</td>\n",
       "      <td>0.0</td>\n",
       "      <td>101.20</td>\n",
       "      <td>3.58</td>\n",
       "    </tr>\n",
       "    <tr>\n",
       "      <th>1</th>\n",
       "      <td>7001865778</td>\n",
       "      <td>109</td>\n",
       "      <td>0.0</td>\n",
       "      <td>0.0</td>\n",
       "      <td>0.0</td>\n",
       "      <td>6/30/2014</td>\n",
       "      <td>7/31/2014</td>\n",
       "      <td>8/31/2014</td>\n",
       "      <td>9/30/2014</td>\n",
       "      <td>34.047</td>\n",
       "      <td>...</td>\n",
       "      <td>0</td>\n",
       "      <td>NaN</td>\n",
       "      <td>1.0</td>\n",
       "      <td>1.0</td>\n",
       "      <td>NaN</td>\n",
       "      <td>1006</td>\n",
       "      <td>0.0</td>\n",
       "      <td>0.0</td>\n",
       "      <td>0.00</td>\n",
       "      <td>0.00</td>\n",
       "    </tr>\n",
       "    <tr>\n",
       "      <th>2</th>\n",
       "      <td>7001625959</td>\n",
       "      <td>109</td>\n",
       "      <td>0.0</td>\n",
       "      <td>0.0</td>\n",
       "      <td>0.0</td>\n",
       "      <td>6/30/2014</td>\n",
       "      <td>7/31/2014</td>\n",
       "      <td>8/31/2014</td>\n",
       "      <td>9/30/2014</td>\n",
       "      <td>167.690</td>\n",
       "      <td>...</td>\n",
       "      <td>0</td>\n",
       "      <td>NaN</td>\n",
       "      <td>NaN</td>\n",
       "      <td>NaN</td>\n",
       "      <td>1.0</td>\n",
       "      <td>1103</td>\n",
       "      <td>0.0</td>\n",
       "      <td>0.0</td>\n",
       "      <td>4.17</td>\n",
       "      <td>0.00</td>\n",
       "    </tr>\n",
       "    <tr>\n",
       "      <th>3</th>\n",
       "      <td>7001204172</td>\n",
       "      <td>109</td>\n",
       "      <td>0.0</td>\n",
       "      <td>0.0</td>\n",
       "      <td>0.0</td>\n",
       "      <td>6/30/2014</td>\n",
       "      <td>7/31/2014</td>\n",
       "      <td>8/31/2014</td>\n",
       "      <td>9/30/2014</td>\n",
       "      <td>221.338</td>\n",
       "      <td>...</td>\n",
       "      <td>0</td>\n",
       "      <td>NaN</td>\n",
       "      <td>NaN</td>\n",
       "      <td>NaN</td>\n",
       "      <td>NaN</td>\n",
       "      <td>2491</td>\n",
       "      <td>0.0</td>\n",
       "      <td>0.0</td>\n",
       "      <td>0.00</td>\n",
       "      <td>0.00</td>\n",
       "    </tr>\n",
       "    <tr>\n",
       "      <th>4</th>\n",
       "      <td>7000142493</td>\n",
       "      <td>109</td>\n",
       "      <td>0.0</td>\n",
       "      <td>0.0</td>\n",
       "      <td>0.0</td>\n",
       "      <td>6/30/2014</td>\n",
       "      <td>7/31/2014</td>\n",
       "      <td>8/31/2014</td>\n",
       "      <td>9/30/2014</td>\n",
       "      <td>261.636</td>\n",
       "      <td>...</td>\n",
       "      <td>0</td>\n",
       "      <td>0.0</td>\n",
       "      <td>NaN</td>\n",
       "      <td>NaN</td>\n",
       "      <td>NaN</td>\n",
       "      <td>1526</td>\n",
       "      <td>0.0</td>\n",
       "      <td>0.0</td>\n",
       "      <td>0.00</td>\n",
       "      <td>0.00</td>\n",
       "    </tr>\n",
       "  </tbody>\n",
       "</table>\n",
       "<p>5 rows × 226 columns</p>\n",
       "</div>"
      ],
      "text/plain": [
       "   mobile_number  circle_id  loc_og_t2o_mou  std_og_t2o_mou  loc_ic_t2o_mou  \\\n",
       "0     7000842753        109             0.0             0.0             0.0   \n",
       "1     7001865778        109             0.0             0.0             0.0   \n",
       "2     7001625959        109             0.0             0.0             0.0   \n",
       "3     7001204172        109             0.0             0.0             0.0   \n",
       "4     7000142493        109             0.0             0.0             0.0   \n",
       "\n",
       "  last_date_of_month_6 last_date_of_month_7 last_date_of_month_8  \\\n",
       "0            6/30/2014            7/31/2014            8/31/2014   \n",
       "1            6/30/2014            7/31/2014            8/31/2014   \n",
       "2            6/30/2014            7/31/2014            8/31/2014   \n",
       "3            6/30/2014            7/31/2014            8/31/2014   \n",
       "4            6/30/2014            7/31/2014            8/31/2014   \n",
       "\n",
       "  last_date_of_month_9   arpu_6  ...  sachet_3g_9  fb_user_6  fb_user_7  \\\n",
       "0            9/30/2014  197.385  ...            0        1.0        1.0   \n",
       "1            9/30/2014   34.047  ...            0        NaN        1.0   \n",
       "2            9/30/2014  167.690  ...            0        NaN        NaN   \n",
       "3            9/30/2014  221.338  ...            0        NaN        NaN   \n",
       "4            9/30/2014  261.636  ...            0        0.0        NaN   \n",
       "\n",
       "   fb_user_8  fb_user_9   aon  aug_vbc_3g  jul_vbc_3g  jun_vbc_3g  sep_vbc_3g  \n",
       "0        1.0        NaN   968        30.4         0.0      101.20        3.58  \n",
       "1        1.0        NaN  1006         0.0         0.0        0.00        0.00  \n",
       "2        NaN        1.0  1103         0.0         0.0        4.17        0.00  \n",
       "3        NaN        NaN  2491         0.0         0.0        0.00        0.00  \n",
       "4        NaN        NaN  1526         0.0         0.0        0.00        0.00  \n",
       "\n",
       "[5 rows x 226 columns]"
      ]
     },
     "execution_count": 2,
     "metadata": {},
     "output_type": "execute_result"
    }
   ],
   "source": [
    "print('Dataframe Shape: ', telecom_data.shape)\n",
    "print(\"Dataframe Info: \"); telecom_data.info()\n",
    "telecom_data.head(5)"
   ]
  },
  {
   "cell_type": "markdown",
   "metadata": {},
   "source": [
    "<b>Finding Null/Empty values count in columns<b>"
   ]
  },
  {
   "cell_type": "code",
   "execution_count": 3,
   "metadata": {},
   "outputs": [
    {
     "data": {
      "text/plain": [
       "loc_og_t2o_mou           1018\n",
       "std_og_t2o_mou           1018\n",
       "loc_ic_t2o_mou           1018\n",
       "last_date_of_month_7      601\n",
       "last_date_of_month_8     1100\n",
       "last_date_of_month_9     1659\n",
       "onnet_mou_6              3937\n",
       "onnet_mou_7              3859\n",
       "onnet_mou_8              5378\n",
       "onnet_mou_9              7745\n",
       "offnet_mou_6             3937\n",
       "offnet_mou_7             3859\n",
       "offnet_mou_8             5378\n",
       "offnet_mou_9             7745\n",
       "roam_ic_mou_6            3937\n",
       "roam_ic_mou_7            3859\n",
       "roam_ic_mou_8            5378\n",
       "roam_ic_mou_9            7745\n",
       "roam_og_mou_6            3937\n",
       "roam_og_mou_7            3859\n",
       "roam_og_mou_8            5378\n",
       "roam_og_mou_9            7745\n",
       "loc_og_t2t_mou_6         3937\n",
       "loc_og_t2t_mou_7         3859\n",
       "loc_og_t2t_mou_8         5378\n",
       "loc_og_t2t_mou_9         7745\n",
       "loc_og_t2m_mou_6         3937\n",
       "loc_og_t2m_mou_7         3859\n",
       "loc_og_t2m_mou_8         5378\n",
       "loc_og_t2m_mou_9         7745\n",
       "                        ...  \n",
       "max_rech_data_8         73660\n",
       "max_rech_data_9         74077\n",
       "count_rech_2g_6         74846\n",
       "count_rech_2g_7         74428\n",
       "count_rech_2g_8         73660\n",
       "count_rech_2g_9         74077\n",
       "count_rech_3g_6         74846\n",
       "count_rech_3g_7         74428\n",
       "count_rech_3g_8         73660\n",
       "count_rech_3g_9         74077\n",
       "av_rech_amt_data_6      74846\n",
       "av_rech_amt_data_7      74428\n",
       "av_rech_amt_data_8      73660\n",
       "av_rech_amt_data_9      74077\n",
       "arpu_3g_6               74846\n",
       "arpu_3g_7               74428\n",
       "arpu_3g_8               73660\n",
       "arpu_3g_9               74077\n",
       "arpu_2g_6               74846\n",
       "arpu_2g_7               74428\n",
       "arpu_2g_8               73660\n",
       "arpu_2g_9               74077\n",
       "night_pck_user_6        74846\n",
       "night_pck_user_7        74428\n",
       "night_pck_user_8        73660\n",
       "night_pck_user_9        74077\n",
       "fb_user_6               74846\n",
       "fb_user_7               74428\n",
       "fb_user_8               73660\n",
       "fb_user_9               74077\n",
       "Length: 166, dtype: int64"
      ]
     },
     "execution_count": 3,
     "metadata": {},
     "output_type": "execute_result"
    }
   ],
   "source": [
    "null_columns=telecom_data.columns[telecom_data.isnull().any()]\n",
    "telecom_data[null_columns].isnull().sum()"
   ]
  },
  {
   "cell_type": "markdown",
   "metadata": {},
   "source": [
    "<b> Finding unique value counts, to identify categorical columns </b>"
   ]
  },
  {
   "cell_type": "code",
   "execution_count": 11,
   "metadata": {},
   "outputs": [
    {
     "data": {
      "text/html": [
       "<div>\n",
       "<style scoped>\n",
       "    .dataframe tbody tr th:only-of-type {\n",
       "        vertical-align: middle;\n",
       "    }\n",
       "\n",
       "    .dataframe tbody tr th {\n",
       "        vertical-align: top;\n",
       "    }\n",
       "\n",
       "    .dataframe thead th {\n",
       "        text-align: right;\n",
       "    }\n",
       "</style>\n",
       "<table border=\"1\" class=\"dataframe\">\n",
       "  <thead>\n",
       "    <tr style=\"text-align: right;\">\n",
       "      <th></th>\n",
       "      <th>night_pck_user_6</th>\n",
       "      <th>night_pck_user_7</th>\n",
       "      <th>night_pck_user_8</th>\n",
       "      <th>night_pck_user_9</th>\n",
       "      <th>fb_user_6</th>\n",
       "      <th>fb_user_7</th>\n",
       "      <th>fb_user_8</th>\n",
       "      <th>fb_user_9</th>\n",
       "    </tr>\n",
       "  </thead>\n",
       "  <tbody>\n",
       "    <tr>\n",
       "      <th>0</th>\n",
       "      <td>0.0</td>\n",
       "      <td>0.0</td>\n",
       "      <td>0.0</td>\n",
       "      <td>NaN</td>\n",
       "      <td>1.0</td>\n",
       "      <td>1.0</td>\n",
       "      <td>1.0</td>\n",
       "      <td>NaN</td>\n",
       "    </tr>\n",
       "    <tr>\n",
       "      <th>1</th>\n",
       "      <td>NaN</td>\n",
       "      <td>0.0</td>\n",
       "      <td>0.0</td>\n",
       "      <td>NaN</td>\n",
       "      <td>NaN</td>\n",
       "      <td>1.0</td>\n",
       "      <td>1.0</td>\n",
       "      <td>NaN</td>\n",
       "    </tr>\n",
       "    <tr>\n",
       "      <th>2</th>\n",
       "      <td>NaN</td>\n",
       "      <td>NaN</td>\n",
       "      <td>NaN</td>\n",
       "      <td>0.0</td>\n",
       "      <td>NaN</td>\n",
       "      <td>NaN</td>\n",
       "      <td>NaN</td>\n",
       "      <td>1.0</td>\n",
       "    </tr>\n",
       "    <tr>\n",
       "      <th>3</th>\n",
       "      <td>NaN</td>\n",
       "      <td>NaN</td>\n",
       "      <td>NaN</td>\n",
       "      <td>NaN</td>\n",
       "      <td>NaN</td>\n",
       "      <td>NaN</td>\n",
       "      <td>NaN</td>\n",
       "      <td>NaN</td>\n",
       "    </tr>\n",
       "    <tr>\n",
       "      <th>4</th>\n",
       "      <td>0.0</td>\n",
       "      <td>NaN</td>\n",
       "      <td>NaN</td>\n",
       "      <td>NaN</td>\n",
       "      <td>0.0</td>\n",
       "      <td>NaN</td>\n",
       "      <td>NaN</td>\n",
       "      <td>NaN</td>\n",
       "    </tr>\n",
       "  </tbody>\n",
       "</table>\n",
       "</div>"
      ],
      "text/plain": [
       "   night_pck_user_6  night_pck_user_7  night_pck_user_8  night_pck_user_9  \\\n",
       "0               0.0               0.0               0.0               NaN   \n",
       "1               NaN               0.0               0.0               NaN   \n",
       "2               NaN               NaN               NaN               0.0   \n",
       "3               NaN               NaN               NaN               NaN   \n",
       "4               0.0               NaN               NaN               NaN   \n",
       "\n",
       "   fb_user_6  fb_user_7  fb_user_8  fb_user_9  \n",
       "0        1.0        1.0        1.0        NaN  \n",
       "1        NaN        1.0        1.0        NaN  \n",
       "2        NaN        NaN        NaN        1.0  \n",
       "3        NaN        NaN        NaN        NaN  \n",
       "4        0.0        NaN        NaN        NaN  "
      ]
     },
     "execution_count": 11,
     "metadata": {},
     "output_type": "execute_result"
    }
   ],
   "source": [
    "telecom_data.loc[:,telecom_data.nunique() == 2].head(5)"
   ]
  },
  {
   "cell_type": "markdown",
   "metadata": {},
   "source": [
    "<b> Treating categorical data </b><br>\n",
    "From the above we identified night_pck_user_6, night_pck_user_7, night_pck_user_8, night_pck_user_9, fb_user_6, fb_user_7, fb_user_8, fb_user_9, and around 65-70% null values present in them . "
   ]
  },
  {
   "cell_type": "code",
   "execution_count": 12,
   "metadata": {},
   "outputs": [],
   "source": [
    "#Adding '-99' to the missing NULL values, to later analyse missing categorical data.\n",
    "cat_variables = [\"night_pck_user_6\", \"night_pck_user_7\", \"night_pck_user_8\", \n",
    "\"night_pck_user_9\", \"fb_user_6\", \"fb_user_7\", \"fb_user_8\", \"fb_user_9\"]\n",
    "\n",
    "for var in cat_variables:\n",
    "    telecom_data[var].fillna(value=-99, inplace=True)"
   ]
  },
  {
   "cell_type": "code",
   "execution_count": 13,
   "metadata": {},
   "outputs": [],
   "source": [
    "# Create dummy variables for all the six categorial variables\n",
    "night_pck_user_6_s = pd.get_dummies(telecom_data['night_pck_user_6'],prefix=\"night6\",drop_first=True)\n",
    "night_pck_user_7_s = pd.get_dummies(telecom_data['night_pck_user_7'],prefix=\"night7\",drop_first=True)\n",
    "night_pck_user_8_s = pd.get_dummies(telecom_data['night_pck_user_8'],prefix=\"night8\",drop_first=True)\n",
    "night_pck_user_9_s = pd.get_dummies(telecom_data['night_pck_user_9'],prefix=\"night9\",drop_first=True)\n",
    "\n",
    "fb_user_6_s = pd.get_dummies(telecom_data['fb_user_6'],prefix=\"fb6\", drop_first=True)\n",
    "fb_user_7_s = pd.get_dummies(telecom_data['fb_user_7'],prefix=\"fb7\",drop_first=True)\n",
    "fb_user_8_s = pd.get_dummies(telecom_data['fb_user_8'],prefix=\"fb8\",drop_first=True)\n",
    "fb_user_9_s = pd.get_dummies(telecom_data['fb_user_9'],prefix=\"fb9\",drop_first=True)\n",
    "\n",
    "telecom_data = pd.concat([telecom_data,night_pck_user_6_s],axis=1)\n",
    "telecom_data = pd.concat([telecom_data,night_pck_user_7_s],axis=1)\n",
    "telecom_data = pd.concat([telecom_data,night_pck_user_8_s],axis=1)\n",
    "telecom_data = pd.concat([telecom_data,night_pck_user_9_s],axis=1)\n",
    "\n",
    "telecom_data = pd.concat([telecom_data,fb_user_6_s],axis=1)\n",
    "telecom_data = pd.concat([telecom_data,fb_user_7_s],axis=1)\n",
    "telecom_data = pd.concat([telecom_data,fb_user_8_s],axis=1)\n",
    "telecom_data = pd.concat([telecom_data,fb_user_9_s],axis=1)\n",
    "\n",
    "# drop all categorial columns\n",
    "telecom_data = telecom_data.drop(['fb_user_6', 'fb_user_7', 'fb_user_8', 'fb_user_9', 'night_pck_user_6', 'night_pck_user_7', 'night_pck_user_8','night_pck_user_9'], 1)"
   ]
  },
  {
   "cell_type": "markdown",
   "metadata": {},
   "source": [
    "<b>Looking at other columns with more than 70% missing data</b>"
   ]
  },
  {
   "cell_type": "code",
   "execution_count": 14,
   "metadata": {},
   "outputs": [
    {
     "data": {
      "text/plain": [
       "date_of_last_rech_data_6    74.85\n",
       "date_of_last_rech_data_7    74.43\n",
       "date_of_last_rech_data_8    73.66\n",
       "date_of_last_rech_data_9    74.08\n",
       "total_rech_data_6           74.85\n",
       "total_rech_data_7           74.43\n",
       "total_rech_data_8           73.66\n",
       "total_rech_data_9           74.08\n",
       "max_rech_data_6             74.85\n",
       "max_rech_data_7             74.43\n",
       "max_rech_data_8             73.66\n",
       "max_rech_data_9             74.08\n",
       "count_rech_2g_6             74.85\n",
       "count_rech_2g_7             74.43\n",
       "count_rech_2g_8             73.66\n",
       "count_rech_2g_9             74.08\n",
       "count_rech_3g_6             74.85\n",
       "count_rech_3g_7             74.43\n",
       "count_rech_3g_8             73.66\n",
       "count_rech_3g_9             74.08\n",
       "av_rech_amt_data_6          74.85\n",
       "av_rech_amt_data_7          74.43\n",
       "av_rech_amt_data_8          73.66\n",
       "av_rech_amt_data_9          74.08\n",
       "arpu_3g_6                   74.85\n",
       "arpu_3g_7                   74.43\n",
       "arpu_3g_8                   73.66\n",
       "arpu_3g_9                   74.08\n",
       "arpu_2g_6                   74.85\n",
       "arpu_2g_7                   74.43\n",
       "arpu_2g_8                   73.66\n",
       "arpu_2g_9                   74.08\n",
       "dtype: float64"
      ]
     },
     "execution_count": 14,
     "metadata": {},
     "output_type": "execute_result"
    }
   ],
   "source": [
    "# Columns with more than 70% missing values\n",
    "colmns_missing_data = round(100*(telecom_data.isnull().sum()/len(telecom_data.index)), 2)\n",
    "colmns_missing_data[colmns_missing_data >= 70]"
   ]
  },
  {
   "cell_type": "markdown",
   "metadata": {},
   "source": [
    "We can Observe from the above, <br> missing values in total_rech_data, max_rech_data, count_rech_2g, av_rech_amt_data, arpu_3g for their respective months are equal to missing values in date_of_last_rech_data. <br> Since looks like no recharges were done during these months for the corresponding row, missing values can be imputed with 0."
   ]
  },
  {
   "cell_type": "code",
   "execution_count": 15,
   "metadata": {},
   "outputs": [],
   "source": [
    "fill_col = ['total_rech_data_6',\n",
    "'total_rech_data_7',\n",
    "'total_rech_data_8',\n",
    "'total_rech_data_9',\n",
    "'max_rech_data_6',\n",
    "'max_rech_data_7',\n",
    "'max_rech_data_8',\n",
    "'max_rech_data_9',\n",
    "'count_rech_2g_6',\n",
    "'count_rech_2g_7',\n",
    "'count_rech_2g_8',\n",
    "'count_rech_2g_9',\n",
    "'count_rech_3g_6',\n",
    "'count_rech_3g_7',\n",
    "'count_rech_3g_8',\n",
    "'count_rech_3g_9',\n",
    "'av_rech_amt_data_6',\n",
    "'av_rech_amt_data_7',\n",
    "'av_rech_amt_data_8',\n",
    "'av_rech_amt_data_9',\n",
    "'arpu_3g_6',\n",
    "'arpu_3g_7',\n",
    "'arpu_3g_8',\n",
    "'arpu_3g_9',\n",
    "'arpu_2g_6',\n",
    "'arpu_2g_7',\n",
    "'arpu_2g_8',\n",
    "'arpu_2g_9']\n",
    "for col in fill_col:\n",
    "    telecom_data[col].fillna(value=0, inplace=True)"
   ]
  },
  {
   "cell_type": "code",
   "execution_count": 16,
   "metadata": {},
   "outputs": [],
   "source": [
    "#dropping date of last recharge column since we would not use it further\n",
    "telecom_data=telecom_data.drop(['date_of_last_rech_data_6','date_of_last_rech_data_7','date_of_last_rech_data_8','date_of_last_rech_data_9'],1)"
   ]
  },
  {
   "cell_type": "markdown",
   "metadata": {},
   "source": [
    "<b> Identifying high value customers </b> <br> Adding Total recharge data amount"
   ]
  },
  {
   "cell_type": "code",
   "execution_count": 18,
   "metadata": {},
   "outputs": [],
   "source": [
    "telecom_data[\"total_rech_data_amt_6\"] = telecom_data[\"total_rech_data_6\"]*telecom_data['av_rech_amt_data_6']\n",
    "telecom_data[\"total_rech_data_amt_7\"] = telecom_data[\"total_rech_data_7\"]*telecom_data['av_rech_amt_data_7']\n",
    "telecom_data[\"total_rech_data_amt_8\"] = telecom_data[\"total_rech_data_8\"]*telecom_data['av_rech_amt_data_8']\n",
    "telecom_data[\"total_rech_data_amt_9\"] = telecom_data[\"total_rech_data_9\"]*telecom_data['av_rech_amt_data_9']\n",
    "\n",
    "#Dropping colums \n",
    "drop_data_columns = [\"total_rech_data_6\", \"total_rech_data_7\", \"total_rech_data_8\", \"total_rech_data_9\", \n",
    "                'av_rech_amt_data_6', 'av_rech_amt_data_7', 'av_rech_amt_data_8', 'av_rech_amt_data_9']\n",
    "telecom_data.drop(drop_data_columns, axis=1, inplace=True)"
   ]
  },
  {
   "cell_type": "code",
   "execution_count": 19,
   "metadata": {},
   "outputs": [
    {
     "name": "stdout",
     "output_type": "stream",
     "text": [
      "70 percentile of first two months avg recharge amount:  478.0\n",
      "Dataframe Shape:  (30001, 226)\n"
     ]
    }
   ],
   "source": [
    "# Filter high-value customers\n",
    "avg_rech_amt_6_7 = (telecom_data[\"total_rech_amt_6\"] + telecom_data[\"total_rech_data_amt_6\"] + \n",
    "                      telecom_data[\"total_rech_amt_7\"] + telecom_data[\"total_rech_data_amt_7\"]) / 2.0\n",
    "amont_70_pc = np.percentile(avg_rech_amt_6_7, 70.0)\n",
    "print('70 percentile of first two months avg recharge amount: ', amont_70_pc)\n",
    "\n",
    "telecom_data = telecom_data[avg_rech_amt_6_7 >= amont_70_pc]\n",
    "print('Dataframe Shape: ', telecom_data.shape)"
   ]
  },
  {
   "cell_type": "markdown",
   "metadata": {},
   "source": [
    "<b> Identify churned member for month 9, and remove all the attributes corresponding to the churn phase</b>"
   ]
  },
  {
   "cell_type": "code",
   "execution_count": 20,
   "metadata": {},
   "outputs": [
    {
     "name": "stdout",
     "output_type": "stream",
     "text": [
      "Dataframe Shape:  (30001, 176)\n"
     ]
    }
   ],
   "source": [
    "#identifying churned members \n",
    "churn = telecom_data[\"total_ic_mou_9\"] + telecom_data[\"total_og_mou_9\"] + telecom_data[\"vol_2g_mb_9\"] + telecom_data[\"vol_3g_mb_9\"]\n",
    "\n",
    "telecom_data[\"churn\"] = np.where(churn, 0, 1)\n",
    "drop_fourth_month_columns = [hdr for hdr in list(telecom_data) if hdr.endswith(\"_9\")]\n",
    "drop_fourth_month_columns += [\"sep_vbc_3g\"]\n",
    "telecom_data.drop(drop_fourth_month_columns, axis=1, inplace=True)\n",
    "\n",
    "print('Dataframe Shape: ', telecom_data.shape)"
   ]
  },
  {
   "cell_type": "code",
   "execution_count": 21,
   "metadata": {},
   "outputs": [
    {
     "data": {
      "text/plain": [
       "8.136395453484884"
      ]
     },
     "execution_count": 21,
     "metadata": {},
     "output_type": "execute_result"
    }
   ],
   "source": [
    "100*(telecom_data.churn.sum()/len(telecom_data.index))"
   ]
  },
  {
   "cell_type": "markdown",
   "metadata": {},
   "source": [
    "<b>We see that approx. 8.14% of high value customers have churned.</b>"
   ]
  },
  {
   "cell_type": "code",
   "execution_count": 22,
   "metadata": {},
   "outputs": [
    {
     "data": {
      "text/plain": [
       "std_ic_t2o_mou_7            1\n",
       "std_og_t2c_mou_8            1\n",
       "std_ic_t2o_mou_6            1\n",
       "std_ic_t2o_mou_8            1\n",
       "std_og_t2c_mou_7            1\n",
       "last_date_of_month_8        1\n",
       "std_og_t2c_mou_6            1\n",
       "last_date_of_month_6        1\n",
       "circle_id                   1\n",
       "loc_og_t2o_mou              1\n",
       "std_og_t2o_mou              1\n",
       "loc_ic_t2o_mou              1\n",
       "last_date_of_month_7        1\n",
       "night6_0.0                  2\n",
       "night6_1.0                  2\n",
       "night7_0.0                  2\n",
       "night7_1.0                  2\n",
       "night8_0.0                  2\n",
       "night9_0.0                  2\n",
       "night9_1.0                  2\n",
       "fb6_0.0                     2\n",
       "fb7_0.0                     2\n",
       "fb7_1.0                     2\n",
       "fb8_0.0                     2\n",
       "fb8_1.0                     2\n",
       "fb9_0.0                     2\n",
       "fb9_1.0                     2\n",
       "night8_1.0                  2\n",
       "fb6_1.0                     2\n",
       "churn                       2\n",
       "                        ...  \n",
       "loc_ic_t2m_mou_8        15122\n",
       "loc_og_t2m_mou_8        15130\n",
       "loc_ic_t2m_mou_6        15461\n",
       "loc_ic_t2m_mou_7        15547\n",
       "loc_og_t2m_mou_6        15625\n",
       "loc_og_t2m_mou_7        15674\n",
       "onnet_mou_8             15872\n",
       "std_og_mou_6            15922\n",
       "std_og_mou_7            15958\n",
       "onnet_mou_6             16890\n",
       "onnet_mou_7             16987\n",
       "loc_og_mou_8            17582\n",
       "loc_ic_mou_8            18069\n",
       "loc_og_mou_6            18348\n",
       "loc_ic_mou_7            18496\n",
       "loc_og_mou_7            18502\n",
       "loc_ic_mou_6            18524\n",
       "total_ic_mou_8          19581\n",
       "total_ic_mou_6          20121\n",
       "total_ic_mou_7          20161\n",
       "offnet_mou_8            20163\n",
       "offnet_mou_6            21220\n",
       "offnet_mou_7            21263\n",
       "total_og_mou_8          22316\n",
       "total_og_mou_6          23519\n",
       "total_og_mou_7          23684\n",
       "arpu_8                  28073\n",
       "arpu_6                  29072\n",
       "arpu_7                  29084\n",
       "mobile_number           30001\n",
       "Length: 176, dtype: int64"
      ]
     },
     "execution_count": 22,
     "metadata": {},
     "output_type": "execute_result"
    }
   ],
   "source": [
    "telecom_data.nunique().sort_values(ascending=True)"
   ]
  },
  {
   "cell_type": "markdown",
   "metadata": {},
   "source": [
    "<b>Dropping colums with no variance</b>"
   ]
  },
  {
   "cell_type": "code",
   "execution_count": 23,
   "metadata": {},
   "outputs": [
    {
     "name": "stdout",
     "output_type": "stream",
     "text": [
      "Dataframe Shape:  (30001, 163)\n",
      "Dataframe Info: \n",
      "<class 'pandas.core.frame.DataFrame'>\n",
      "Int64Index: 30001 entries, 0 to 99997\n",
      "Columns: 163 entries, mobile_number to churn\n",
      "dtypes: float64(117), int32(1), int64(26), object(3), uint8(16)\n",
      "memory usage: 34.2+ MB\n"
     ]
    }
   ],
   "source": [
    "no_variance_col = ['std_ic_t2o_mou_7',\n",
    "'std_og_t2c_mou_8',\n",
    "'std_ic_t2o_mou_6',\n",
    "'std_ic_t2o_mou_8',\n",
    "'std_og_t2c_mou_7',\n",
    "'std_og_t2c_mou_6',\n",
    "'circle_id',\n",
    "'loc_og_t2o_mou',\n",
    "'std_og_t2o_mou',\n",
    "'loc_ic_t2o_mou',\n",
    "'last_date_of_month_6',\n",
    "'last_date_of_month_7',\n",
    "'last_date_of_month_8']\n",
    "telecom_data = telecom_data.drop(no_variance_col,1)\n",
    "print('Dataframe Shape: ', telecom_data.shape)\n",
    "print(\"Dataframe Info: \"); telecom_data.info()"
   ]
  },
  {
   "cell_type": "code",
   "execution_count": 24,
   "metadata": {},
   "outputs": [
    {
     "data": {
      "text/plain": [
       "Series([], dtype: float64)"
      ]
     },
     "execution_count": 24,
     "metadata": {},
     "output_type": "execute_result"
    }
   ],
   "source": [
    "# Columns with more than 50% missing values\n",
    "colmns_missing_data = round(100*(telecom_data.isnull().sum()/len(telecom_data.index)), 2)\n",
    "colmns_missing_data[colmns_missing_data >= 50]"
   ]
  },
  {
   "cell_type": "code",
   "execution_count": 25,
   "metadata": {},
   "outputs": [
    {
     "name": "stdout",
     "output_type": "stream",
     "text": [
      "Dataframe Shape:  (30001, 148)\n",
      "Dataframe Info: \n",
      "<class 'pandas.core.frame.DataFrame'>\n",
      "Int64Index: 30001 entries, 0 to 99997\n",
      "Columns: 148 entries, mobile_number to churn\n",
      "dtypes: float64(102), int32(1), int64(26), object(3), uint8(16)\n",
      "memory usage: 30.8+ MB\n"
     ]
    }
   ],
   "source": [
    "#removing some of the columns that might not make a substantial impact on the model, since we already have total recharge amount per month\n",
    "cols_to_drop=['max_rech_data_6',\n",
    "'max_rech_data_7',\n",
    "'max_rech_data_8',\n",
    "'count_rech_2g_6',\n",
    "'count_rech_2g_7',\n",
    "'count_rech_2g_8',\n",
    "'count_rech_3g_6',\n",
    "'count_rech_3g_7',\n",
    "'count_rech_3g_8',\n",
    "'arpu_3g_6',\n",
    "'arpu_3g_7',\n",
    "'arpu_3g_8',\n",
    "'arpu_2g_6',\n",
    "'arpu_2g_7',\n",
    "'arpu_2g_8']\n",
    "telecom_data = telecom_data.drop(cols_to_drop,1)\n",
    "print('Dataframe Shape: ', telecom_data.shape)\n",
    "print(\"Dataframe Info: \"); telecom_data.info()"
   ]
  },
  {
   "cell_type": "markdown",
   "metadata": {},
   "source": [
    "<b> Treating row wise missing values </b>"
   ]
  },
  {
   "cell_type": "code",
   "execution_count": 26,
   "metadata": {},
   "outputs": [
    {
     "name": "stdout",
     "output_type": "stream",
     "text": [
      "Dataframe Shape:  (28504, 148)\n",
      "Dataframe Info: \n",
      "<class 'pandas.core.frame.DataFrame'>\n",
      "Int64Index: 28504 entries, 7 to 99997\n",
      "Columns: 148 entries, mobile_number to churn\n",
      "dtypes: float64(102), int32(1), int64(26), object(3), uint8(16)\n",
      "memory usage: 29.2+ MB\n"
     ]
    }
   ],
   "source": [
    "# drop rows with missing values greater >= 25\n",
    "telecom_data = telecom_data[telecom_data.isnull().sum(axis=1) < 25]\n",
    "print('Dataframe Shape: ', telecom_data.shape)\n",
    "print(\"Dataframe Info: \"); telecom_data.info()"
   ]
  },
  {
   "cell_type": "code",
   "execution_count": 27,
   "metadata": {},
   "outputs": [
    {
     "data": {
      "text/plain": [
       "date_of_last_rech_6     33\n",
       "date_of_last_rech_7     52\n",
       "date_of_last_rech_8    276\n",
       "dtype: int64"
      ]
     },
     "execution_count": 27,
     "metadata": {},
     "output_type": "execute_result"
    }
   ],
   "source": [
    "null_columns=telecom_data.columns[telecom_data.isnull().any()]\n",
    "telecom_data[null_columns].isnull().sum()"
   ]
  },
  {
   "cell_type": "markdown",
   "metadata": {},
   "source": [
    "<b> Handling datetime columns </b>"
   ]
  },
  {
   "cell_type": "code",
   "execution_count": 28,
   "metadata": {},
   "outputs": [
    {
     "name": "stdout",
     "output_type": "stream",
     "text": [
      "<class 'pandas.core.frame.DataFrame'>\n",
      "Int64Index: 28504 entries, 7 to 99997\n",
      "Data columns (total 3 columns):\n",
      "date_of_last_rech_6    28471 non-null datetime64[ns]\n",
      "date_of_last_rech_7    28452 non-null datetime64[ns]\n",
      "date_of_last_rech_8    28228 non-null datetime64[ns]\n",
      "dtypes: datetime64[ns](3)\n",
      "memory usage: 890.8 KB\n"
     ]
    }
   ],
   "source": [
    "date_vars = [\"date_of_last_rech_6\",  \"date_of_last_rech_7\", \"date_of_last_rech_8\"]\n",
    "for col in date_vars:\n",
    "    telecom_data[col] = pd.to_datetime(telecom_data[col])\n",
    "telecom_data[date_vars].info()"
   ]
  },
  {
   "cell_type": "code",
   "execution_count": 29,
   "metadata": {},
   "outputs": [],
   "source": [
    "#creating new colums of recharge days remaining\n",
    "import datetime\n",
    "telecom_data['rech_days_remaining_6']=(datetime.datetime.strptime(\"30-06-2014\", \"%d-%m-%Y\") - telecom_data.date_of_last_rech_6).astype('timedelta64[D]')\n",
    "telecom_data['rech_days_remaining_7']=(datetime.datetime.strptime(\"31-07-2014\", \"%d-%m-%Y\") - telecom_data.date_of_last_rech_7).astype('timedelta64[D]')\n",
    "telecom_data['rech_days_remaining_8']=(datetime.datetime.strptime(\"31-08-2014\", \"%d-%m-%Y\") - telecom_data.date_of_last_rech_8).astype('timedelta64[D]')"
   ]
  },
  {
   "cell_type": "code",
   "execution_count": 30,
   "metadata": {},
   "outputs": [
    {
     "data": {
      "text/plain": [
       "(28504, 148)"
      ]
     },
     "execution_count": 30,
     "metadata": {},
     "output_type": "execute_result"
    }
   ],
   "source": [
    "#dropping earlier datetime columns from the data set\n",
    "telecom_data.drop(date_vars, axis=1, inplace=True)\n",
    "telecom_data.shape"
   ]
  },
  {
   "cell_type": "code",
   "execution_count": 31,
   "metadata": {},
   "outputs": [
    {
     "data": {
      "text/html": [
       "<div>\n",
       "<style scoped>\n",
       "    .dataframe tbody tr th:only-of-type {\n",
       "        vertical-align: middle;\n",
       "    }\n",
       "\n",
       "    .dataframe tbody tr th {\n",
       "        vertical-align: top;\n",
       "    }\n",
       "\n",
       "    .dataframe thead th {\n",
       "        text-align: right;\n",
       "    }\n",
       "</style>\n",
       "<table border=\"1\" class=\"dataframe\">\n",
       "  <thead>\n",
       "    <tr style=\"text-align: right;\">\n",
       "      <th></th>\n",
       "      <th>rech_days_remaining_6</th>\n",
       "      <th>rech_days_remaining_7</th>\n",
       "      <th>rech_days_remaining_8</th>\n",
       "    </tr>\n",
       "  </thead>\n",
       "  <tbody>\n",
       "    <tr>\n",
       "      <th>count</th>\n",
       "      <td>28471.000000</td>\n",
       "      <td>28452.000000</td>\n",
       "      <td>28228.000000</td>\n",
       "    </tr>\n",
       "    <tr>\n",
       "      <th>mean</th>\n",
       "      <td>3.388044</td>\n",
       "      <td>3.486504</td>\n",
       "      <td>4.147478</td>\n",
       "    </tr>\n",
       "    <tr>\n",
       "      <th>std</th>\n",
       "      <td>4.490864</td>\n",
       "      <td>4.289200</td>\n",
       "      <td>5.104752</td>\n",
       "    </tr>\n",
       "    <tr>\n",
       "      <th>min</th>\n",
       "      <td>0.000000</td>\n",
       "      <td>0.000000</td>\n",
       "      <td>0.000000</td>\n",
       "    </tr>\n",
       "    <tr>\n",
       "      <th>25%</th>\n",
       "      <td>0.000000</td>\n",
       "      <td>0.000000</td>\n",
       "      <td>1.000000</td>\n",
       "    </tr>\n",
       "    <tr>\n",
       "      <th>50%</th>\n",
       "      <td>2.000000</td>\n",
       "      <td>2.000000</td>\n",
       "      <td>3.000000</td>\n",
       "    </tr>\n",
       "    <tr>\n",
       "      <th>75%</th>\n",
       "      <td>4.000000</td>\n",
       "      <td>5.000000</td>\n",
       "      <td>6.000000</td>\n",
       "    </tr>\n",
       "    <tr>\n",
       "      <th>max</th>\n",
       "      <td>29.000000</td>\n",
       "      <td>30.000000</td>\n",
       "      <td>30.000000</td>\n",
       "    </tr>\n",
       "  </tbody>\n",
       "</table>\n",
       "</div>"
      ],
      "text/plain": [
       "       rech_days_remaining_6  rech_days_remaining_7  rech_days_remaining_8\n",
       "count           28471.000000           28452.000000           28228.000000\n",
       "mean                3.388044               3.486504               4.147478\n",
       "std                 4.490864               4.289200               5.104752\n",
       "min                 0.000000               0.000000               0.000000\n",
       "25%                 0.000000               0.000000               1.000000\n",
       "50%                 2.000000               2.000000               3.000000\n",
       "75%                 4.000000               5.000000               6.000000\n",
       "max                29.000000              30.000000              30.000000"
      ]
     },
     "execution_count": 31,
     "metadata": {},
     "output_type": "execute_result"
    }
   ],
   "source": [
    "new_date_col = ['rech_days_remaining_6','rech_days_remaining_7','rech_days_remaining_8']\n",
    "telecom_data[new_date_col].describe()"
   ]
  },
  {
   "cell_type": "code",
   "execution_count": 32,
   "metadata": {},
   "outputs": [],
   "source": [
    "#imputing missing data in new_date_col with median\n",
    "for col in new_date_col:\n",
    "    telecom_data[col].fillna(telecom_data[col].median(),inplace=True)"
   ]
  },
  {
   "cell_type": "markdown",
   "metadata": {},
   "source": [
    "<b> Check for outliers on Usage (voice and data) based columns </b><br>\n",
    "Using upper quantile as 0.95 and lower as 0.5"
   ]
  },
  {
   "cell_type": "code",
   "execution_count": 33,
   "metadata": {},
   "outputs": [
    {
     "name": "stdout",
     "output_type": "stream",
     "text": [
      "      v_d_usage_6  v_d_usage_7  v_d_usage_8\n",
      "0.05      205.901     267.1065      66.5220\n",
      "0.95     3269.608    3429.4805    3367.0245\n"
     ]
    },
    {
     "data": {
      "text/html": [
       "<div>\n",
       "<style scoped>\n",
       "    .dataframe tbody tr th:only-of-type {\n",
       "        vertical-align: middle;\n",
       "    }\n",
       "\n",
       "    .dataframe tbody tr th {\n",
       "        vertical-align: top;\n",
       "    }\n",
       "\n",
       "    .dataframe thead th {\n",
       "        text-align: right;\n",
       "    }\n",
       "</style>\n",
       "<table border=\"1\" class=\"dataframe\">\n",
       "  <thead>\n",
       "    <tr style=\"text-align: right;\">\n",
       "      <th></th>\n",
       "      <th>v_d_usage_6</th>\n",
       "      <th>v_d_usage_7</th>\n",
       "      <th>v_d_usage_8</th>\n",
       "    </tr>\n",
       "  </thead>\n",
       "  <tbody>\n",
       "    <tr>\n",
       "      <th>count</th>\n",
       "      <td>28504.000000</td>\n",
       "      <td>28504.000000</td>\n",
       "      <td>28504.000000</td>\n",
       "    </tr>\n",
       "    <tr>\n",
       "      <th>mean</th>\n",
       "      <td>1370.333973</td>\n",
       "      <td>1441.479117</td>\n",
       "      <td>1324.441629</td>\n",
       "    </tr>\n",
       "    <tr>\n",
       "      <th>std</th>\n",
       "      <td>1116.179060</td>\n",
       "      <td>1153.227149</td>\n",
       "      <td>1200.197744</td>\n",
       "    </tr>\n",
       "    <tr>\n",
       "      <th>min</th>\n",
       "      <td>0.000000</td>\n",
       "      <td>0.000000</td>\n",
       "      <td>0.000000</td>\n",
       "    </tr>\n",
       "    <tr>\n",
       "      <th>25%</th>\n",
       "      <td>700.397500</td>\n",
       "      <td>749.135000</td>\n",
       "      <td>593.600000</td>\n",
       "    </tr>\n",
       "    <tr>\n",
       "      <th>50%</th>\n",
       "      <td>1123.465000</td>\n",
       "      <td>1172.960000</td>\n",
       "      <td>1062.730000</td>\n",
       "    </tr>\n",
       "    <tr>\n",
       "      <th>75%</th>\n",
       "      <td>1741.192500</td>\n",
       "      <td>1818.267500</td>\n",
       "      <td>1719.872500</td>\n",
       "    </tr>\n",
       "    <tr>\n",
       "      <th>90%</th>\n",
       "      <td>2578.817000</td>\n",
       "      <td>2686.877000</td>\n",
       "      <td>2625.537000</td>\n",
       "    </tr>\n",
       "    <tr>\n",
       "      <th>95%</th>\n",
       "      <td>3269.608000</td>\n",
       "      <td>3429.480500</td>\n",
       "      <td>3367.024500</td>\n",
       "    </tr>\n",
       "    <tr>\n",
       "      <th>max</th>\n",
       "      <td>26862.910000</td>\n",
       "      <td>28775.020000</td>\n",
       "      <td>29663.390000</td>\n",
       "    </tr>\n",
       "  </tbody>\n",
       "</table>\n",
       "</div>"
      ],
      "text/plain": [
       "        v_d_usage_6   v_d_usage_7   v_d_usage_8\n",
       "count  28504.000000  28504.000000  28504.000000\n",
       "mean    1370.333973   1441.479117   1324.441629\n",
       "std     1116.179060   1153.227149   1200.197744\n",
       "min        0.000000      0.000000      0.000000\n",
       "25%      700.397500    749.135000    593.600000\n",
       "50%     1123.465000   1172.960000   1062.730000\n",
       "75%     1741.192500   1818.267500   1719.872500\n",
       "90%     2578.817000   2686.877000   2625.537000\n",
       "95%     3269.608000   3429.480500   3367.024500\n",
       "max    26862.910000  28775.020000  29663.390000"
      ]
     },
     "execution_count": 33,
     "metadata": {},
     "output_type": "execute_result"
    }
   ],
   "source": [
    "telecom_data['v_d_usage_6'] = telecom_data[\"total_ic_mou_6\"] + telecom_data[\"total_og_mou_6\"] + telecom_data[\"vol_2g_mb_6\"] + telecom_data[\"vol_3g_mb_6\"]\n",
    "telecom_data['v_d_usage_7'] = telecom_data[\"total_ic_mou_7\"] + telecom_data[\"total_og_mou_7\"] + telecom_data[\"vol_2g_mb_7\"] + telecom_data[\"vol_3g_mb_7\"]\n",
    "telecom_data['v_d_usage_8'] = telecom_data[\"total_ic_mou_8\"] + telecom_data[\"total_og_mou_8\"] + telecom_data[\"vol_2g_mb_8\"] + telecom_data[\"vol_3g_mb_8\"]\n",
    "#cols=['total_ic_mou_6','total_ic_mou_7','total_ic_mou_8','total_og_mou_6','total_og_mou_7','total_og_mou_8','vol_2g_mb_6',\n",
    "#      'vol_2g_mb_7','vol_2g_mb_8','vol_3g_mb_6','vol_3g_mb_7','vol_3g_mb_8']\n",
    "cols=['v_d_usage_6','v_d_usage_7','v_d_usage_8']\n",
    "low = .05\n",
    "high = .95\n",
    "quant_df = telecom_data[cols].quantile([low, high])\n",
    "print(quant_df)\n",
    "telecom_data[cols].describe(percentiles=[.25,.5,.75,.90,.95])"
   ]
  },
  {
   "cell_type": "code",
   "execution_count": 34,
   "metadata": {},
   "outputs": [
    {
     "data": {
      "text/plain": [
       "(27078, 151)"
      ]
     },
     "execution_count": 34,
     "metadata": {},
     "output_type": "execute_result"
    }
   ],
   "source": [
    "#Removing Rows having outliers\n",
    "telecom_data=telecom_data[telecom_data.v_d_usage_8 < telecom_data.v_d_usage_8.quantile(.95)]\n",
    "#telecom_data.drop(date_vars, axis=1, inplace=True)\n",
    "telecom_data.shape"
   ]
  },
  {
   "cell_type": "code",
   "execution_count": 35,
   "metadata": {},
   "outputs": [
    {
     "name": "stdout",
     "output_type": "stream",
     "text": [
      "      total_ic_mou_6  total_ic_mou_7  total_ic_mou_8  total_og_mou_6  \\\n",
      "0.05          8.5100         12.1100          2.5885           1.710   \n",
      "0.95        872.8825        885.1005        861.0205        1797.275   \n",
      "\n",
      "      total_og_mou_7  total_og_mou_8  vol_2g_mb_6  vol_2g_mb_7  vol_2g_mb_8  \\\n",
      "0.05          1.9100          0.0000       0.0000        0.000        0.000   \n",
      "0.95       1832.9645       1658.5505     685.1795      681.847      604.716   \n",
      "\n",
      "      vol_3g_mb_6  vol_3g_mb_7  vol_3g_mb_8  \n",
      "0.05        0.000        0.000        0.000  \n",
      "0.95     1419.534     1495.739     1350.297  \n"
     ]
    },
    {
     "data": {
      "text/html": [
       "<div>\n",
       "<style scoped>\n",
       "    .dataframe tbody tr th:only-of-type {\n",
       "        vertical-align: middle;\n",
       "    }\n",
       "\n",
       "    .dataframe tbody tr th {\n",
       "        vertical-align: top;\n",
       "    }\n",
       "\n",
       "    .dataframe thead th {\n",
       "        text-align: right;\n",
       "    }\n",
       "</style>\n",
       "<table border=\"1\" class=\"dataframe\">\n",
       "  <thead>\n",
       "    <tr style=\"text-align: right;\">\n",
       "      <th></th>\n",
       "      <th>total_ic_mou_6</th>\n",
       "      <th>total_ic_mou_7</th>\n",
       "      <th>total_ic_mou_8</th>\n",
       "      <th>total_og_mou_6</th>\n",
       "      <th>total_og_mou_7</th>\n",
       "      <th>total_og_mou_8</th>\n",
       "      <th>vol_2g_mb_6</th>\n",
       "      <th>vol_2g_mb_7</th>\n",
       "      <th>vol_2g_mb_8</th>\n",
       "      <th>vol_3g_mb_6</th>\n",
       "      <th>vol_3g_mb_7</th>\n",
       "      <th>vol_3g_mb_8</th>\n",
       "    </tr>\n",
       "  </thead>\n",
       "  <tbody>\n",
       "    <tr>\n",
       "      <th>count</th>\n",
       "      <td>27078.000000</td>\n",
       "      <td>27078.000000</td>\n",
       "      <td>27078.000000</td>\n",
       "      <td>27078.000000</td>\n",
       "      <td>27078.000000</td>\n",
       "      <td>27078.000000</td>\n",
       "      <td>27078.000000</td>\n",
       "      <td>27078.000000</td>\n",
       "      <td>27078.000000</td>\n",
       "      <td>27078.000000</td>\n",
       "      <td>27078.000000</td>\n",
       "      <td>27078.000000</td>\n",
       "    </tr>\n",
       "    <tr>\n",
       "      <th>mean</th>\n",
       "      <td>283.386076</td>\n",
       "      <td>290.102529</td>\n",
       "      <td>271.614672</td>\n",
       "      <td>593.231195</td>\n",
       "      <td>606.740066</td>\n",
       "      <td>518.376511</td>\n",
       "      <td>122.501948</td>\n",
       "      <td>121.942888</td>\n",
       "      <td>100.462912</td>\n",
       "      <td>271.452338</td>\n",
       "      <td>291.593132</td>\n",
       "      <td>248.094861</td>\n",
       "    </tr>\n",
       "    <tr>\n",
       "      <th>std</th>\n",
       "      <td>325.950794</td>\n",
       "      <td>327.623026</td>\n",
       "      <td>301.347818</td>\n",
       "      <td>625.355877</td>\n",
       "      <td>628.630301</td>\n",
       "      <td>550.513430</td>\n",
       "      <td>308.016131</td>\n",
       "      <td>306.838890</td>\n",
       "      <td>265.484728</td>\n",
       "      <td>629.327805</td>\n",
       "      <td>627.745146</td>\n",
       "      <td>494.858551</td>\n",
       "    </tr>\n",
       "    <tr>\n",
       "      <th>min</th>\n",
       "      <td>0.000000</td>\n",
       "      <td>0.000000</td>\n",
       "      <td>0.000000</td>\n",
       "      <td>0.000000</td>\n",
       "      <td>0.000000</td>\n",
       "      <td>0.000000</td>\n",
       "      <td>0.000000</td>\n",
       "      <td>0.000000</td>\n",
       "      <td>0.000000</td>\n",
       "      <td>0.000000</td>\n",
       "      <td>0.000000</td>\n",
       "      <td>0.000000</td>\n",
       "    </tr>\n",
       "    <tr>\n",
       "      <th>25%</th>\n",
       "      <td>79.550000</td>\n",
       "      <td>86.732500</td>\n",
       "      <td>73.010000</td>\n",
       "      <td>132.210000</td>\n",
       "      <td>133.132500</td>\n",
       "      <td>94.230000</td>\n",
       "      <td>0.000000</td>\n",
       "      <td>0.000000</td>\n",
       "      <td>0.000000</td>\n",
       "      <td>0.000000</td>\n",
       "      <td>0.000000</td>\n",
       "      <td>0.000000</td>\n",
       "    </tr>\n",
       "    <tr>\n",
       "      <th>50%</th>\n",
       "      <td>187.890000</td>\n",
       "      <td>192.645000</td>\n",
       "      <td>180.985000</td>\n",
       "      <td>418.750000</td>\n",
       "      <td>435.100000</td>\n",
       "      <td>347.250000</td>\n",
       "      <td>0.000000</td>\n",
       "      <td>0.010000</td>\n",
       "      <td>0.000000</td>\n",
       "      <td>0.000000</td>\n",
       "      <td>0.000000</td>\n",
       "      <td>0.000000</td>\n",
       "    </tr>\n",
       "    <tr>\n",
       "      <th>75%</th>\n",
       "      <td>369.067500</td>\n",
       "      <td>375.455000</td>\n",
       "      <td>360.255000</td>\n",
       "      <td>846.547500</td>\n",
       "      <td>876.987500</td>\n",
       "      <td>761.417500</td>\n",
       "      <td>80.987500</td>\n",
       "      <td>77.760000</td>\n",
       "      <td>51.920000</td>\n",
       "      <td>282.630000</td>\n",
       "      <td>346.440000</td>\n",
       "      <td>283.057500</td>\n",
       "    </tr>\n",
       "    <tr>\n",
       "      <th>90%</th>\n",
       "      <td>644.523000</td>\n",
       "      <td>652.775000</td>\n",
       "      <td>628.341000</td>\n",
       "      <td>1385.158000</td>\n",
       "      <td>1410.355000</td>\n",
       "      <td>1275.061000</td>\n",
       "      <td>402.674000</td>\n",
       "      <td>399.191000</td>\n",
       "      <td>320.595000</td>\n",
       "      <td>958.070000</td>\n",
       "      <td>1021.283000</td>\n",
       "      <td>943.894000</td>\n",
       "    </tr>\n",
       "    <tr>\n",
       "      <th>95%</th>\n",
       "      <td>872.882500</td>\n",
       "      <td>885.100500</td>\n",
       "      <td>861.020500</td>\n",
       "      <td>1797.275000</td>\n",
       "      <td>1832.964500</td>\n",
       "      <td>1658.550500</td>\n",
       "      <td>685.179500</td>\n",
       "      <td>681.847000</td>\n",
       "      <td>604.716000</td>\n",
       "      <td>1419.534000</td>\n",
       "      <td>1495.739000</td>\n",
       "      <td>1350.297000</td>\n",
       "    </tr>\n",
       "    <tr>\n",
       "      <th>max</th>\n",
       "      <td>7074.590000</td>\n",
       "      <td>4972.530000</td>\n",
       "      <td>3086.930000</td>\n",
       "      <td>8488.360000</td>\n",
       "      <td>7422.630000</td>\n",
       "      <td>3264.740000</td>\n",
       "      <td>6207.840000</td>\n",
       "      <td>4909.710000</td>\n",
       "      <td>3193.180000</td>\n",
       "      <td>20304.270000</td>\n",
       "      <td>13983.310000</td>\n",
       "      <td>3313.350000</td>\n",
       "    </tr>\n",
       "  </tbody>\n",
       "</table>\n",
       "</div>"
      ],
      "text/plain": [
       "       total_ic_mou_6  total_ic_mou_7  total_ic_mou_8  total_og_mou_6  \\\n",
       "count    27078.000000    27078.000000    27078.000000    27078.000000   \n",
       "mean       283.386076      290.102529      271.614672      593.231195   \n",
       "std        325.950794      327.623026      301.347818      625.355877   \n",
       "min          0.000000        0.000000        0.000000        0.000000   \n",
       "25%         79.550000       86.732500       73.010000      132.210000   \n",
       "50%        187.890000      192.645000      180.985000      418.750000   \n",
       "75%        369.067500      375.455000      360.255000      846.547500   \n",
       "90%        644.523000      652.775000      628.341000     1385.158000   \n",
       "95%        872.882500      885.100500      861.020500     1797.275000   \n",
       "max       7074.590000     4972.530000     3086.930000     8488.360000   \n",
       "\n",
       "       total_og_mou_7  total_og_mou_8   vol_2g_mb_6   vol_2g_mb_7  \\\n",
       "count    27078.000000    27078.000000  27078.000000  27078.000000   \n",
       "mean       606.740066      518.376511    122.501948    121.942888   \n",
       "std        628.630301      550.513430    308.016131    306.838890   \n",
       "min          0.000000        0.000000      0.000000      0.000000   \n",
       "25%        133.132500       94.230000      0.000000      0.000000   \n",
       "50%        435.100000      347.250000      0.000000      0.010000   \n",
       "75%        876.987500      761.417500     80.987500     77.760000   \n",
       "90%       1410.355000     1275.061000    402.674000    399.191000   \n",
       "95%       1832.964500     1658.550500    685.179500    681.847000   \n",
       "max       7422.630000     3264.740000   6207.840000   4909.710000   \n",
       "\n",
       "        vol_2g_mb_8   vol_3g_mb_6   vol_3g_mb_7   vol_3g_mb_8  \n",
       "count  27078.000000  27078.000000  27078.000000  27078.000000  \n",
       "mean     100.462912    271.452338    291.593132    248.094861  \n",
       "std      265.484728    629.327805    627.745146    494.858551  \n",
       "min        0.000000      0.000000      0.000000      0.000000  \n",
       "25%        0.000000      0.000000      0.000000      0.000000  \n",
       "50%        0.000000      0.000000      0.000000      0.000000  \n",
       "75%       51.920000    282.630000    346.440000    283.057500  \n",
       "90%      320.595000    958.070000   1021.283000    943.894000  \n",
       "95%      604.716000   1419.534000   1495.739000   1350.297000  \n",
       "max     3193.180000  20304.270000  13983.310000   3313.350000  "
      ]
     },
     "execution_count": 35,
     "metadata": {},
     "output_type": "execute_result"
    }
   ],
   "source": [
    "cols=['total_ic_mou_6','total_ic_mou_7','total_ic_mou_8','total_og_mou_6','total_og_mou_7','total_og_mou_8','vol_2g_mb_6',\n",
    "      'vol_2g_mb_7','vol_2g_mb_8','vol_3g_mb_6','vol_3g_mb_7','vol_3g_mb_8']\n",
    "\n",
    "low = .05\n",
    "high = .95\n",
    "quant_df = telecom_data[cols].quantile([low, high])\n",
    "print(quant_df)\n",
    "telecom_data[cols].describe(percentiles=[.25,.5,.75,.90,.95])"
   ]
  },
  {
   "cell_type": "markdown",
   "metadata": {},
   "source": [
    "***EDA:***\n",
    "<br/>\n",
    "<br/>\n",
    "***Univariate Analysis*** \n",
    "<br/>\n",
    "**create plots to compare variable distribution across months 6,7 and 8 for churn and non-churn customers**"
   ]
  },
  {
   "cell_type": "code",
   "execution_count": 38,
   "metadata": {},
   "outputs": [
    {
     "data": {
      "image/png": "[encoded data removed]",
      "text/plain": [
       "<Figure size 432x288 with 3 Axes>"
      ]
     },
     "metadata": {
      "needs_background": "light"
     },
     "output_type": "display_data"
    }
   ],
   "source": [
    "f,axes = plt.subplots(nrows=1, ncols=3)\n",
    "#Analysis of total_rech_amt\n",
    "sns.boxplot(data=telecom_data, y=\"total_rech_amt_6\", x=\"churn\",hue=\"churn\", linewidth=2.5, showfliers=False, ax=axes[0])\n",
    "sns.boxplot(data=telecom_data, y=\"total_rech_amt_7\",  x=\"churn\",hue=\"churn\", linewidth=2.5, showfliers=False, ax=axes[1])\n",
    "sns.boxplot(data=telecom_data, y=\"total_rech_amt_8\",  x=\"churn\",hue=\"churn\", linewidth=2.5, showfliers=False, ax=axes[2])\n",
    "\n",
    "f.tight_layout()"
   ]
  },
  {
   "cell_type": "code",
   "execution_count": 39,
   "metadata": {},
   "outputs": [
    {
     "data": {
      "image/png": "[encoded data removed]",
      "text/plain": [
       "<Figure size 432x288 with 3 Axes>"
      ]
     },
     "metadata": {
      "needs_background": "light"
     },
     "output_type": "display_data"
    }
   ],
   "source": [
    "#Analysis of max_rech_amt\n",
    "\n",
    "f,axes = plt.subplots(nrows=1, ncols=3)\n",
    "sns.boxplot(data=telecom_data, y=\"max_rech_amt_6\", x=\"churn\",hue=\"churn\", linewidth=2.5, showfliers=False, ax=axes[0])\n",
    "sns.boxplot(data=telecom_data, y=\"max_rech_amt_7\",  x=\"churn\",hue=\"churn\", linewidth=2.5, showfliers=False, ax=axes[1])\n",
    "sns.boxplot(data=telecom_data, y=\"max_rech_amt_8\",  x=\"churn\",hue=\"churn\", linewidth=2.5, showfliers=False, ax=axes[2])\n",
    "f.tight_layout()"
   ]
  },
  {
   "cell_type": "code",
   "execution_count": 40,
   "metadata": {},
   "outputs": [
    {
     "data": {
      "image/png": "[encoded data removed]",
      "text/plain": [
       "<Figure size 432x288 with 3 Axes>"
      ]
     },
     "metadata": {
      "needs_background": "light"
     },
     "output_type": "display_data"
    }
   ],
   "source": [
    "f,axes = plt.subplots(nrows=1, ncols=3)\n",
    "sns.boxplot(data=telecom_data, y=\"last_day_rch_amt_6\", x=\"churn\",hue=\"churn\", linewidth=2.5, showfliers=False, ax=axes[0])\n",
    "sns.boxplot(data=telecom_data, y=\"last_day_rch_amt_7\",  x=\"churn\",hue=\"churn\", linewidth=2.5, showfliers=False, ax=axes[1])\n",
    "sns.boxplot(data=telecom_data, y=\"last_day_rch_amt_8\",  x=\"churn\",hue=\"churn\", linewidth=2.5, showfliers=False, ax=axes[2])\n",
    "f.tight_layout()"
   ]
  },
  {
   "cell_type": "code",
   "execution_count": 41,
   "metadata": {},
   "outputs": [
    {
     "data": {
      "image/png": "[encoded data removed]",
      "text/plain": [
       "<Figure size 432x288 with 3 Axes>"
      ]
     },
     "metadata": {
      "needs_background": "light"
     },
     "output_type": "display_data"
    }
   ],
   "source": [
    "f,axes = plt.subplots(nrows=1, ncols=3)\n",
    "sns.boxplot(data=telecom_data, y=\"arpu_6\", x=\"churn\",hue=\"churn\", linewidth=2.5, showfliers=False, ax=axes[0])\n",
    "sns.boxplot(data=telecom_data, y=\"arpu_7\",  x=\"churn\",hue=\"churn\", linewidth=2.5, showfliers=False, ax=axes[1])\n",
    "sns.boxplot(data=telecom_data, y=\"arpu_8\",  x=\"churn\",hue=\"churn\", linewidth=2.5, showfliers=False, ax=axes[2])\n",
    "f.tight_layout()"
   ]
  },
  {
   "cell_type": "code",
   "execution_count": 45,
   "metadata": {},
   "outputs": [
    {
     "data": {
      "image/png": "[encoded data removed]",
      "text/plain": [
       "<Figure size 401.625x360 with 1 Axes>"
      ]
     },
     "metadata": {},
     "output_type": "display_data"
    }
   ],
   "source": [
    "sns.set_style('whitegrid')\n",
    "g=sns.FacetGrid(telecom_data,hue='churn',height=5)\n",
    "g= g.map(plt.scatter,\"total_rech_amt_6\",\"total_rech_amt_7\").add_legend()\n",
    "for ax, title in zip(g.axes.flat,['total_rech_amt for month of June/July']):\n",
    "    ax.set_title(title)"
   ]
  },
  {
   "cell_type": "code",
   "execution_count": 46,
   "metadata": {},
   "outputs": [
    {
     "data": {
      "image/png": "[encoded data removed]",
      "text/plain": [
       "<Figure size 401.625x360 with 1 Axes>"
      ]
     },
     "metadata": {},
     "output_type": "display_data"
    }
   ],
   "source": [
    "g=sns.FacetGrid(telecom_data,hue='churn',height=5)\n",
    "g= g.map(plt.scatter,\"total_rech_amt_7\",\"total_rech_amt_8\").add_legend()\n",
    "for ax, title in zip(g.axes.flat,['total_rech_amt for month of July/August']):\n",
    "    ax.set_title(title)"
   ]
  },
  {
   "cell_type": "code",
   "execution_count": 47,
   "metadata": {},
   "outputs": [
    {
     "data": {
      "text/plain": [
       "<seaborn.axisgrid.FacetGrid at 0x2351ebcebe0>"
      ]
     },
     "execution_count": 47,
     "metadata": {},
     "output_type": "execute_result"
    },
    {
     "data": {
      "image/png": "[encoded data removed]",
      "text/plain": [
       "<Figure size 473.625x432 with 1 Axes>"
      ]
     },
     "metadata": {},
     "output_type": "display_data"
    }
   ],
   "source": [
    "sns.FacetGrid(telecom_data,hue='churn',height=6).map(sns.distplot,'v_d_usage_6').add_legend()"
   ]
  },
  {
   "cell_type": "code",
   "execution_count": 48,
   "metadata": {},
   "outputs": [
    {
     "data": {
      "text/plain": [
       "<seaborn.axisgrid.FacetGrid at 0x23528893860>"
      ]
     },
     "execution_count": 48,
     "metadata": {},
     "output_type": "execute_result"
    },
    {
     "data": {
      "image/png": "[encoded data removed]",
      "text/plain": [
       "<Figure size 473.625x432 with 1 Axes>"
      ]
     },
     "metadata": {},
     "output_type": "display_data"
    }
   ],
   "source": [
    "sns.FacetGrid(telecom_data,hue='churn',height=6).map(sns.distplot,'v_d_usage_7').add_legend()"
   ]
  },
  {
   "cell_type": "code",
   "execution_count": 49,
   "metadata": {},
   "outputs": [
    {
     "data": {
      "text/plain": [
       "<seaborn.axisgrid.FacetGrid at 0x2351ebce080>"
      ]
     },
     "execution_count": 49,
     "metadata": {},
     "output_type": "execute_result"
    },
    {
     "data": {
      "image/png": "[encoded data removed]",
      "text/plain": [
       "<Figure size 473.625x432 with 1 Axes>"
      ]
     },
     "metadata": {},
     "output_type": "display_data"
    }
   ],
   "source": [
    "sns.FacetGrid(telecom_data,hue='churn',height=6).map(sns.distplot,'v_d_usage_8').add_legend()"
   ]
  },
  {
   "cell_type": "markdown",
   "metadata": {},
   "source": [
    "<b>From the sub-plot  we can observe average usage/revenue per user drops signficantly in action phase for churned customers</b>"
   ]
  },
  {
   "cell_type": "code",
   "execution_count": 54,
   "metadata": {},
   "outputs": [
    {
     "data": {
      "text/plain": [
       "(27078, 148)"
      ]
     },
     "execution_count": 54,
     "metadata": {},
     "output_type": "execute_result"
    }
   ],
   "source": [
    "telecom_data = telecom_data.drop(['v_d_usage_6','v_d_usage_7','v_d_usage_8'],1)\n",
    "telecom_data.shape"
   ]
  },
  {
   "cell_type": "markdown",
   "metadata": {},
   "source": [
    "***Correlation Matrix***"
   ]
  },
  {
   "cell_type": "code",
   "execution_count": 55,
   "metadata": {},
   "outputs": [
    {
     "data": {
      "text/plain": [
       "<matplotlib.axes._subplots.AxesSubplot at 0x235289abd30>"
      ]
     },
     "execution_count": 55,
     "metadata": {},
     "output_type": "execute_result"
    },
    {
     "data": {
      "image/png": "[encoded data removed]",
      "text/plain": [
       "<Figure size 720x720 with 2 Axes>"
      ]
     },
     "metadata": {},
     "output_type": "display_data"
    }
   ],
   "source": [
    "telecom_corr_mtrx = telecom_data.drop(['mobile_number', 'churn'], axis=1)\n",
    "\n",
    "# Let's see the correlation matrix \n",
    "plt.figure(figsize = (10,10))\n",
    "sns.heatmap(telecom_corr_mtrx.corr(), annot= False)"
   ]
  },
  {
   "cell_type": "code",
   "execution_count": 56,
   "metadata": {},
   "outputs": [
    {
     "name": "stdout",
     "output_type": "stream",
     "text": [
      "Total Churn Customer    = 1576\n",
      "Total Not-Churn Customer = 25502\n",
      "Churn Rate            = 5.82%\n"
     ]
    }
   ],
   "source": [
    "#checking the balance of the data\n",
    "churn  = telecom_data[\"churn\"].value_counts()\n",
    "churn_rate = churn[1]/(churn[1] + churn[0])\n",
    "\n",
    "print(\"Total Churn Customer    = {}\".format(churn[1]))\n",
    "print(\"Total Not-Churn Customer = {}\".format(churn[0]))\n",
    "print(\"Churn Rate            = {:.2f}%\".format(churn_rate*100))"
   ]
  },
  {
   "cell_type": "markdown",
   "metadata": {},
   "source": [
    "<b>Data is highly imbalanced, we need to balance it before we can create the model.</b>"
   ]
  },
  {
   "cell_type": "code",
   "execution_count": 57,
   "metadata": {},
   "outputs": [],
   "source": [
    "telecom_data_copy= telecom_data.copy()"
   ]
  },
  {
   "cell_type": "markdown",
   "metadata": {},
   "source": [
    "<b> Building Predictive Models </b><br>\n",
    "Model 1: PCA + Logistic Regression"
   ]
  },
  {
   "cell_type": "code",
   "execution_count": 58,
   "metadata": {},
   "outputs": [],
   "source": [
    "#Dropping mobile number col\n",
    "telecom_data.drop('mobile_number', axis=1, inplace=True)\n",
    "X = telecom_data.drop(['churn'],axis=1)\n",
    "y = telecom_data['churn']"
   ]
  },
  {
   "cell_type": "markdown",
   "metadata": {},
   "source": [
    "Scaling and normalizing"
   ]
  },
  {
   "cell_type": "code",
   "execution_count": 59,
   "metadata": {},
   "outputs": [],
   "source": [
    "from sklearn import preprocessing\n",
    "from sklearn.preprocessing import StandardScaler\n",
    "\n",
    "\n",
    "scaler = preprocessing.StandardScaler().fit(X)\n",
    "\n",
    "X_scaled = scaler.transform(X)"
   ]
  },
  {
   "cell_type": "markdown",
   "metadata": {},
   "source": [
    "Split data 70/30 into train/test"
   ]
  },
  {
   "cell_type": "code",
   "execution_count": 61,
   "metadata": {},
   "outputs": [],
   "source": [
    "from sklearn.model_selection import train_test_split\n",
    "\n",
    "X_train, X_test, y_train, y_test = train_test_split(X_scaled,y, train_size=0.7,test_size=0.3,random_state=42)"
   ]
  },
  {
   "cell_type": "markdown",
   "metadata": {},
   "source": [
    "Balancing the class with SMOTE"
   ]
  },
  {
   "cell_type": "code",
   "execution_count": 63,
   "metadata": {},
   "outputs": [
    {
     "data": {
      "text/plain": [
       "(35680, 146)"
      ]
     },
     "execution_count": 63,
     "metadata": {},
     "output_type": "execute_result"
    }
   ],
   "source": [
    "from imblearn.over_sampling import SMOTE\n",
    "sm = SMOTE(kind = \"regular\")\n",
    "X_train,y_train = sm.fit_sample(X_train,y_train)\n",
    "X_train.shape"
   ]
  },
  {
   "cell_type": "markdown",
   "metadata": {},
   "source": [
    "Applying PCA"
   ]
  },
  {
   "cell_type": "code",
   "execution_count": 64,
   "metadata": {},
   "outputs": [
    {
     "data": {
      "text/plain": [
       "PCA(copy=True, iterated_power='auto', n_components=None, random_state=100,\n",
       "    svd_solver='auto', tol=0.0, whiten=False)"
      ]
     },
     "execution_count": 64,
     "metadata": {},
     "output_type": "execute_result"
    }
   ],
   "source": [
    "from sklearn.decomposition import PCA\n",
    "pca = PCA(random_state=100)\n",
    "pca.fit(X_train)"
   ]
  },
  {
   "cell_type": "code",
   "execution_count": 65,
   "metadata": {},
   "outputs": [
    {
     "data": {
      "text/plain": [
       "(35680, 146)"
      ]
     },
     "execution_count": 65,
     "metadata": {},
     "output_type": "execute_result"
    }
   ],
   "source": [
    "pca_train_df = pca.fit_transform(X_train)\n",
    "pca_train_df.shape"
   ]
  },
  {
   "cell_type": "code",
   "execution_count": 66,
   "metadata": {},
   "outputs": [
    {
     "data": {
      "text/plain": [
       "(8124, 146)"
      ]
     },
     "execution_count": 66,
     "metadata": {},
     "output_type": "execute_result"
    }
   ],
   "source": [
    "pca_test_df = pca.transform(X_test)\n",
    "pca_test_df.shape"
   ]
  },
  {
   "cell_type": "markdown",
   "metadata": {},
   "source": [
    "Logistic regression"
   ]
  },
  {
   "cell_type": "code",
   "execution_count": 68,
   "metadata": {},
   "outputs": [
    {
     "name": "stderr",
     "output_type": "stream",
     "text": [
      "c:\\users\\shreyash\\appdata\\local\\programs\\python\\python37\\lib\\site-packages\\sklearn\\linear_model\\logistic.py:432: FutureWarning: Default solver will be changed to 'lbfgs' in 0.22. Specify a solver to silence this warning.\n",
      "  FutureWarning)\n"
     ]
    }
   ],
   "source": [
    "from sklearn.linear_model import LogisticRegression\n",
    "from sklearn import metrics\n",
    "logsk = LogisticRegression(C=1e9)\n",
    "logsk.fit(pca_train_df, y_train)\n",
    "\n",
    "# Predicted probabilities\n",
    "y_pred = logsk.predict(pca_test_df)\n",
    "# Converting y_pred to a dataframe which is an array\n",
    "y_pred_df = pd.DataFrame(y_pred)"
   ]
  },
  {
   "cell_type": "markdown",
   "metadata": {},
   "source": [
    "confusion matrix"
   ]
  },
  {
   "cell_type": "code",
   "execution_count": 75,
   "metadata": {},
   "outputs": [
    {
     "data": {
      "text/plain": [
       "array([[6502, 1160],\n",
       "       [  68,  394]], dtype=int64)"
      ]
     },
     "execution_count": 75,
     "metadata": {},
     "output_type": "execute_result"
    }
   ],
   "source": [
    "from sklearn.metrics import classification_report, confusion_matrix, accuracy_score\n",
    "confusion_matrix(y_test,y_pred)"
   ]
  },
  {
   "cell_type": "code",
   "execution_count": 76,
   "metadata": {},
   "outputs": [
    {
     "name": "stdout",
     "output_type": "stream",
     "text": [
      "Accuracy score:\n"
     ]
    },
    {
     "data": {
      "text/plain": [
       "0.8488429345150172"
      ]
     },
     "execution_count": 76,
     "metadata": {},
     "output_type": "execute_result"
    }
   ],
   "source": [
    "print (\"Accuracy score:\")\n",
    "accuracy_score(y_test,y_pred)"
   ]
  },
  {
   "cell_type": "code",
   "execution_count": 77,
   "metadata": {},
   "outputs": [
    {
     "data": {
      "image/png": "[encoded data removed]",
      "text/plain": [
       "<Figure size 864x576 with 1 Axes>"
      ]
     },
     "metadata": {
      "needs_background": "light"
     },
     "output_type": "display_data"
    }
   ],
   "source": [
    "%matplotlib inline\n",
    "fig = plt.figure(figsize = (12,8))\n",
    "plt.plot(np.cumsum(pca.explained_variance_ratio_))\n",
    "plt.xlabel('Components')\n",
    "plt.ylabel('Explained variance ratio')\n",
    "plt.show()"
   ]
  },
  {
   "cell_type": "markdown",
   "metadata": {},
   "source": [
    "60 components explain around 90% of variance"
   ]
  },
  {
   "cell_type": "code",
   "execution_count": 78,
   "metadata": {},
   "outputs": [
    {
     "name": "stdout",
     "output_type": "stream",
     "text": [
      "(35680, 60)\n",
      "(8124, 60)\n"
     ]
    }
   ],
   "source": [
    "pca_60 = PCA(n_components=60)\n",
    "df_train_pca_60 = pca_60.fit_transform(X_train)\n",
    "print(df_train_pca_60.shape)\n",
    "df_test_pca_60 = pca_60.transform(X_test)\n",
    "print(df_test_pca_60.shape)"
   ]
  },
  {
   "cell_type": "code",
   "execution_count": 79,
   "metadata": {},
   "outputs": [
    {
     "name": "stderr",
     "output_type": "stream",
     "text": [
      "c:\\users\\shreyash\\appdata\\local\\programs\\python\\python37\\lib\\site-packages\\sklearn\\linear_model\\logistic.py:432: FutureWarning: Default solver will be changed to 'lbfgs' in 0.22. Specify a solver to silence this warning.\n",
      "  FutureWarning)\n"
     ]
    }
   ],
   "source": [
    "from sklearn.linear_model import LogisticRegression\n",
    "from sklearn import metrics\n",
    "logsk1 = LogisticRegression(C=1e9)\n",
    "logsk1.fit(df_train_pca_60, y_train)\n",
    "\n",
    "# Predicted probabilities\n",
    "y_pred60 = logsk1.predict(df_test_pca_60)\n",
    "y_pred_df = pd.DataFrame(y_pred60)"
   ]
  },
  {
   "cell_type": "code",
   "execution_count": 80,
   "metadata": {},
   "outputs": [
    {
     "data": {
      "text/plain": [
       "array([[6461, 1201],\n",
       "       [  68,  394]], dtype=int64)"
      ]
     },
     "execution_count": 80,
     "metadata": {},
     "output_type": "execute_result"
    }
   ],
   "source": [
    "confusion_matrix(y_test,y_pred60)"
   ]
  },
  {
   "cell_type": "code",
   "execution_count": 81,
   "metadata": {},
   "outputs": [
    {
     "name": "stdout",
     "output_type": "stream",
     "text": [
      "Accuracy score:\n"
     ]
    },
    {
     "data": {
      "text/plain": [
       "0.8437961595273265"
      ]
     },
     "execution_count": 81,
     "metadata": {},
     "output_type": "execute_result"
    }
   ],
   "source": [
    "print (\"Accuracy score:\")\n",
    "accuracy_score(y_test,y_pred60)"
   ]
  },
  {
   "cell_type": "code",
   "execution_count": 82,
   "metadata": {},
   "outputs": [
    {
     "data": {
      "text/html": [
       "<div>\n",
       "<style scoped>\n",
       "    .dataframe tbody tr th:only-of-type {\n",
       "        vertical-align: middle;\n",
       "    }\n",
       "\n",
       "    .dataframe tbody tr th {\n",
       "        vertical-align: top;\n",
       "    }\n",
       "\n",
       "    .dataframe thead th {\n",
       "        text-align: right;\n",
       "    }\n",
       "</style>\n",
       "<table border=\"1\" class=\"dataframe\">\n",
       "  <thead>\n",
       "    <tr style=\"text-align: right;\">\n",
       "      <th></th>\n",
       "      <th>PC1</th>\n",
       "      <th>PC2</th>\n",
       "      <th>PC3</th>\n",
       "      <th>Feature</th>\n",
       "    </tr>\n",
       "  </thead>\n",
       "  <tbody>\n",
       "    <tr>\n",
       "      <th>0</th>\n",
       "      <td>0.156815</td>\n",
       "      <td>0.091910</td>\n",
       "      <td>0.061788</td>\n",
       "      <td>arpu_6</td>\n",
       "    </tr>\n",
       "    <tr>\n",
       "      <th>1</th>\n",
       "      <td>0.157665</td>\n",
       "      <td>0.131490</td>\n",
       "      <td>0.055568</td>\n",
       "      <td>arpu_7</td>\n",
       "    </tr>\n",
       "    <tr>\n",
       "      <th>2</th>\n",
       "      <td>0.083623</td>\n",
       "      <td>0.171444</td>\n",
       "      <td>0.081186</td>\n",
       "      <td>arpu_8</td>\n",
       "    </tr>\n",
       "    <tr>\n",
       "      <th>3</th>\n",
       "      <td>0.173817</td>\n",
       "      <td>-0.062679</td>\n",
       "      <td>-0.049348</td>\n",
       "      <td>onnet_mou_6</td>\n",
       "    </tr>\n",
       "    <tr>\n",
       "      <th>4</th>\n",
       "      <td>0.170675</td>\n",
       "      <td>-0.036288</td>\n",
       "      <td>-0.051367</td>\n",
       "      <td>onnet_mou_7</td>\n",
       "    </tr>\n",
       "    <tr>\n",
       "      <th>5</th>\n",
       "      <td>0.108507</td>\n",
       "      <td>0.020733</td>\n",
       "      <td>-0.021260</td>\n",
       "      <td>onnet_mou_8</td>\n",
       "    </tr>\n",
       "    <tr>\n",
       "      <th>6</th>\n",
       "      <td>0.187488</td>\n",
       "      <td>0.038458</td>\n",
       "      <td>-0.017259</td>\n",
       "      <td>offnet_mou_6</td>\n",
       "    </tr>\n",
       "    <tr>\n",
       "      <th>7</th>\n",
       "      <td>0.191596</td>\n",
       "      <td>0.057570</td>\n",
       "      <td>-0.020284</td>\n",
       "      <td>offnet_mou_7</td>\n",
       "    </tr>\n",
       "    <tr>\n",
       "      <th>8</th>\n",
       "      <td>0.102346</td>\n",
       "      <td>0.105797</td>\n",
       "      <td>0.003442</td>\n",
       "      <td>offnet_mou_8</td>\n",
       "    </tr>\n",
       "    <tr>\n",
       "      <th>9</th>\n",
       "      <td>0.022116</td>\n",
       "      <td>0.030176</td>\n",
       "      <td>0.307700</td>\n",
       "      <td>roam_ic_mou_6</td>\n",
       "    </tr>\n",
       "    <tr>\n",
       "      <th>10</th>\n",
       "      <td>0.030085</td>\n",
       "      <td>0.028551</td>\n",
       "      <td>0.429597</td>\n",
       "      <td>roam_ic_mou_7</td>\n",
       "    </tr>\n",
       "    <tr>\n",
       "      <th>11</th>\n",
       "      <td>0.042557</td>\n",
       "      <td>0.027181</td>\n",
       "      <td>0.412069</td>\n",
       "      <td>roam_ic_mou_8</td>\n",
       "    </tr>\n",
       "    <tr>\n",
       "      <th>12</th>\n",
       "      <td>0.035223</td>\n",
       "      <td>0.012547</td>\n",
       "      <td>0.246772</td>\n",
       "      <td>roam_og_mou_6</td>\n",
       "    </tr>\n",
       "    <tr>\n",
       "      <th>13</th>\n",
       "      <td>0.048725</td>\n",
       "      <td>0.006470</td>\n",
       "      <td>0.331754</td>\n",
       "      <td>roam_og_mou_7</td>\n",
       "    </tr>\n",
       "    <tr>\n",
       "      <th>14</th>\n",
       "      <td>0.068234</td>\n",
       "      <td>0.023269</td>\n",
       "      <td>0.303609</td>\n",
       "      <td>roam_og_mou_8</td>\n",
       "    </tr>\n",
       "  </tbody>\n",
       "</table>\n",
       "</div>"
      ],
      "text/plain": [
       "         PC1       PC2       PC3        Feature\n",
       "0   0.156815  0.091910  0.061788         arpu_6\n",
       "1   0.157665  0.131490  0.055568         arpu_7\n",
       "2   0.083623  0.171444  0.081186         arpu_8\n",
       "3   0.173817 -0.062679 -0.049348    onnet_mou_6\n",
       "4   0.170675 -0.036288 -0.051367    onnet_mou_7\n",
       "5   0.108507  0.020733 -0.021260    onnet_mou_8\n",
       "6   0.187488  0.038458 -0.017259   offnet_mou_6\n",
       "7   0.191596  0.057570 -0.020284   offnet_mou_7\n",
       "8   0.102346  0.105797  0.003442   offnet_mou_8\n",
       "9   0.022116  0.030176  0.307700  roam_ic_mou_6\n",
       "10  0.030085  0.028551  0.429597  roam_ic_mou_7\n",
       "11  0.042557  0.027181  0.412069  roam_ic_mou_8\n",
       "12  0.035223  0.012547  0.246772  roam_og_mou_6\n",
       "13  0.048725  0.006470  0.331754  roam_og_mou_7\n",
       "14  0.068234  0.023269  0.303609  roam_og_mou_8"
      ]
     },
     "execution_count": 82,
     "metadata": {},
     "output_type": "execute_result"
    }
   ],
   "source": [
    "colnames = list(X.columns)\n",
    "pcs_df = pd.DataFrame({'PC1':pca.components_[0],'PC2':pca.components_[1], 'PC3':pca.components_[2],'Feature':colnames})\n",
    "pcs_df.head(15)"
   ]
  },
  {
   "cell_type": "markdown",
   "metadata": {},
   "source": [
    "<b>Observations</b><br>\n",
    "1. Logistic Regression on balanced class with smote over PCA, gives the accuracy of around 84.3%<br>\n",
    "2. 90% of variance can be explained with 60 columns\n",
    "3. Key features noted are arpu_6,arpu_7,arpu_8,onnet_mou_6,onnet_mou_7,onnet_mou_8,offnet_mou_6,offnet_mou_7,offnet_mou_8, roam_ic_mou_6, roam_ic_mou_7,roam_ic_mou_8"
   ]
  },
  {
   "cell_type": "markdown",
   "metadata": {},
   "source": [
    "<b> Building Predictive Models </b><br>\n",
    "Model 2 : Lasso + decision trees"
   ]
  },
  {
   "cell_type": "code",
   "execution_count": 83,
   "metadata": {},
   "outputs": [],
   "source": [
    "telecom_df = telecom_data_copy.copy()"
   ]
  },
  {
   "cell_type": "code",
   "execution_count": 84,
   "metadata": {},
   "outputs": [
    {
     "data": {
      "text/plain": [
       "(27078, 147)"
      ]
     },
     "execution_count": 84,
     "metadata": {},
     "output_type": "execute_result"
    }
   ],
   "source": [
    "#Dropping mobile number col\n",
    "telecom_df.drop('mobile_number', axis=1, inplace=True)\n",
    "X = telecom_df.drop(['churn'],axis=1)\n",
    "y = telecom_df['churn']\n",
    "telecom_df.shape"
   ]
  },
  {
   "cell_type": "markdown",
   "metadata": {},
   "source": [
    "Scaling and Normalizing"
   ]
  },
  {
   "cell_type": "code",
   "execution_count": 85,
   "metadata": {},
   "outputs": [],
   "source": [
    "from sklearn import preprocessing\n",
    "from sklearn.preprocessing import StandardScaler\n",
    "\n",
    "\n",
    "scaler = preprocessing.StandardScaler().fit(X)\n",
    "\n",
    "X_scaled = scaler.transform(X)"
   ]
  },
  {
   "cell_type": "markdown",
   "metadata": {},
   "source": [
    "Splitting train/test data"
   ]
  },
  {
   "cell_type": "code",
   "execution_count": 86,
   "metadata": {},
   "outputs": [],
   "source": [
    "from sklearn.model_selection import train_test_split\n",
    "\n",
    "X_train, X_test, y_train, y_test = train_test_split(X_scaled,y, train_size=0.7,test_size=0.3,random_state=42)"
   ]
  },
  {
   "cell_type": "markdown",
   "metadata": {},
   "source": [
    "Balancing with smote"
   ]
  },
  {
   "cell_type": "code",
   "execution_count": 87,
   "metadata": {},
   "outputs": [
    {
     "data": {
      "text/plain": [
       "(35680, 146)"
      ]
     },
     "execution_count": 87,
     "metadata": {},
     "output_type": "execute_result"
    }
   ],
   "source": [
    "from imblearn.over_sampling import SMOTE\n",
    "sm = SMOTE(kind = \"regular\")\n",
    "X_train,y_train = sm.fit_sample(X_train,y_train)\n",
    "X_train.shape"
   ]
  },
  {
   "cell_type": "markdown",
   "metadata": {},
   "source": [
    "Lasso for feature reduction"
   ]
  },
  {
   "cell_type": "code",
   "execution_count": 88,
   "metadata": {},
   "outputs": [
    {
     "name": "stdout",
     "output_type": "stream",
     "text": [
      "[[ 0.0056969   0.0358843   0.          0.01700858  0.          0.\n",
      "   0.          0.         -0.04054437  0.          0.01624982  0.00814838\n",
      "   0.          0.02866781  0.03754803  0.          0.          0.\n",
      "   0.          0.         -0.07358497  0.          0.          0.\n",
      "   0.          0.          0.          0.          0.         -0.02831879\n",
      "   0.          0.          0.          0.          0.00698966  0.\n",
      "   0.          0.          0.          0.03087417  0.          0.\n",
      "   0.          0.          0.          0.          0.         -0.01989583\n",
      "   0.          0.00128036  0.          0.01496598  0.06897952 -0.23328189\n",
      "   0.          0.          0.          0.          0.          0.\n",
      "   0.          0.          0.          0.          0.         -0.08025415\n",
      "   0.01793767  0.          0.          0.          0.          0.\n",
      "   0.          0.          0.          0.          0.          0.\n",
      "   0.00257407  0.02109539 -0.19497558  0.          0.         -0.02928355\n",
      "   0.          0.          0.          0.          0.          0.\n",
      "   0.          0.         -0.0389712   0.          0.          0.\n",
      "   0.          0.          0.          0.          0.         -0.10215494\n",
      "   0.          0.          0.          0.          0.         -0.00391721\n",
      "   0.         -0.00627497 -0.02435188  0.          0.          0.\n",
      "   0.          0.          0.          0.          0.01434302  0.\n",
      "  -0.08209223  0.          0.          0.          0.          0.\n",
      "   0.03223473  0.          0.          0.         -0.2433116   0.\n",
      "   0.          0.00503319  0.          0.02592621  0.          0.\n",
      "   0.         -0.42957553  0.          0.          0.         -0.0332399\n",
      "  -0.01429425  0.15918253]]\n",
      "[-0.64450878]\n"
     ]
    }
   ],
   "source": [
    "from sklearn.svm import LinearSVC\n",
    "from sklearn.feature_selection import SelectFromModel\n",
    " \n",
    "lsvc = LinearSVC(C=0.001, penalty=\"l1\", dual=False).fit(X_train, y_train)\n",
    "model = SelectFromModel(lsvc, prefit=True)\n",
    "X_lasso = model.transform(X_train)\n",
    "supported_cols = model.get_support(indices=True)\n",
    "print(lsvc.coef_)\n",
    "print(lsvc.intercept_)"
   ]
  },
  {
   "cell_type": "code",
   "execution_count": 89,
   "metadata": {},
   "outputs": [
    {
     "data": {
      "text/plain": [
       "['arpu_6',\n",
       " 'arpu_7',\n",
       " 'onnet_mou_6',\n",
       " 'offnet_mou_8',\n",
       " 'roam_ic_mou_7',\n",
       " 'roam_ic_mou_8',\n",
       " 'roam_og_mou_7',\n",
       " 'roam_og_mou_8',\n",
       " 'loc_og_t2m_mou_8',\n",
       " 'loc_og_mou_8',\n",
       " 'std_og_t2m_mou_7',\n",
       " 'std_og_mou_6',\n",
       " 'spl_og_mou_8',\n",
       " 'og_others_7',\n",
       " 'total_og_mou_6',\n",
       " 'total_og_mou_7',\n",
       " 'total_og_mou_8',\n",
       " 'loc_ic_mou_8',\n",
       " 'std_ic_t2t_mou_6',\n",
       " 'total_ic_mou_6',\n",
       " 'total_ic_mou_7',\n",
       " 'total_ic_mou_8',\n",
       " 'spl_ic_mou_8',\n",
       " 'total_rech_num_8',\n",
       " 'last_day_rch_amt_8',\n",
       " 'vol_3g_mb_8',\n",
       " 'monthly_2g_7',\n",
       " 'monthly_2g_8',\n",
       " 'sachet_3g_7',\n",
       " 'aon',\n",
       " 'night7_0.0',\n",
       " 'night9_0.0',\n",
       " 'fb6_1.0',\n",
       " 'fb7_1.0',\n",
       " 'fb9_1.0',\n",
       " 'churn',\n",
       " 'rech_days_remaining_6',\n",
       " 'rech_days_remaining_7']"
      ]
     },
     "execution_count": 89,
     "metadata": {},
     "output_type": "execute_result"
    }
   ],
   "source": [
    "#printing supported columns\n",
    "list(telecom_df.columns[supported_cols])"
   ]
  },
  {
   "cell_type": "code",
   "execution_count": 93,
   "metadata": {},
   "outputs": [
    {
     "data": {
      "text/plain": [
       "(35680, 38)"
      ]
     },
     "execution_count": 93,
     "metadata": {},
     "output_type": "execute_result"
    }
   ],
   "source": [
    "X_train = X_lasso\n",
    "X_train.shape\n",
    "#Feature space holds 35680 observations and 36 features"
   ]
  },
  {
   "cell_type": "markdown",
   "metadata": {},
   "source": [
    "Decision Tree"
   ]
  },
  {
   "cell_type": "code",
   "execution_count": 94,
   "metadata": {},
   "outputs": [
    {
     "data": {
      "text/plain": [
       "DecisionTreeClassifier(class_weight=None, criterion='gini', max_depth=5,\n",
       "                       max_features=None, max_leaf_nodes=None,\n",
       "                       min_impurity_decrease=0.0, min_impurity_split=None,\n",
       "                       min_samples_leaf=1, min_samples_split=2,\n",
       "                       min_weight_fraction_leaf=0.0, presort=False,\n",
       "                       random_state=None, splitter='best')"
      ]
     },
     "execution_count": 94,
     "metadata": {},
     "output_type": "execute_result"
    }
   ],
   "source": [
    "from sklearn.tree import DecisionTreeClassifier\n",
    "from sklearn import tree\n",
    "\n",
    "decision_tree= DecisionTreeClassifier(max_depth=5)\n",
    "decision_tree.fit(X_train, y_train)"
   ]
  },
  {
   "cell_type": "code",
   "execution_count": 95,
   "metadata": {},
   "outputs": [],
   "source": [
    "from sklearn.metrics import classification_report, confusion_matrix, accuracy_score\n",
    "X_test = pd.DataFrame(data=X_test).loc[:, supported_cols]\n",
    "y_pred_default = decision_tree.predict(X_test)"
   ]
  },
  {
   "cell_type": "code",
   "execution_count": 96,
   "metadata": {},
   "outputs": [
    {
     "name": "stdout",
     "output_type": "stream",
     "text": [
      "              precision    recall  f1-score   support\n",
      "\n",
      "           0       0.99      0.87      0.92      7662\n",
      "           1       0.26      0.80      0.40       462\n",
      "\n",
      "    accuracy                           0.86      8124\n",
      "   macro avg       0.62      0.83      0.66      8124\n",
      "weighted avg       0.95      0.86      0.89      8124\n",
      "\n"
     ]
    }
   ],
   "source": [
    "print(classification_report(y_test, y_pred_default))"
   ]
  },
  {
   "cell_type": "code",
   "execution_count": 97,
   "metadata": {},
   "outputs": [
    {
     "data": {
      "text/plain": [
       "array([[6628, 1034],\n",
       "       [  92,  370]], dtype=int64)"
      ]
     },
     "execution_count": 97,
     "metadata": {},
     "output_type": "execute_result"
    }
   ],
   "source": [
    "confusion_matrix(y_test,y_pred_default)"
   ]
  },
  {
   "cell_type": "code",
   "execution_count": 98,
   "metadata": {},
   "outputs": [
    {
     "data": {
      "text/plain": [
       "0.861398325947809"
      ]
     },
     "execution_count": 98,
     "metadata": {},
     "output_type": "execute_result"
    }
   ],
   "source": [
    "accuracy_score(y_test,y_pred_default)"
   ]
  },
  {
   "cell_type": "markdown",
   "metadata": {},
   "source": [
    "Trying with max depth as 10"
   ]
  },
  {
   "cell_type": "code",
   "execution_count": 99,
   "metadata": {},
   "outputs": [
    {
     "data": {
      "text/plain": [
       "DecisionTreeClassifier(class_weight=None, criterion='gini', max_depth=10,\n",
       "                       max_features=None, max_leaf_nodes=None,\n",
       "                       min_impurity_decrease=0.0, min_impurity_split=None,\n",
       "                       min_samples_leaf=1, min_samples_split=2,\n",
       "                       min_weight_fraction_leaf=0.0, presort=False,\n",
       "                       random_state=None, splitter='best')"
      ]
     },
     "execution_count": 99,
     "metadata": {},
     "output_type": "execute_result"
    }
   ],
   "source": [
    "decision_tree= DecisionTreeClassifier(max_depth=10)\n",
    "decision_tree.fit(X_train, y_train)"
   ]
  },
  {
   "cell_type": "code",
   "execution_count": 100,
   "metadata": {},
   "outputs": [],
   "source": [
    "from sklearn.metrics import classification_report, confusion_matrix, accuracy_score\n",
    "X_test = pd.DataFrame(data=X_test).loc[:, supported_cols]\n",
    "y_pred_default = decision_tree.predict(X_test)"
   ]
  },
  {
   "cell_type": "code",
   "execution_count": 101,
   "metadata": {},
   "outputs": [
    {
     "name": "stdout",
     "output_type": "stream",
     "text": [
      "              precision    recall  f1-score   support\n",
      "\n",
      "           0       0.98      0.92      0.95      7662\n",
      "           1       0.35      0.73      0.47       462\n",
      "\n",
      "    accuracy                           0.91      8124\n",
      "   macro avg       0.66      0.82      0.71      8124\n",
      "weighted avg       0.95      0.91      0.92      8124\n",
      "\n"
     ]
    }
   ],
   "source": [
    "print(classification_report(y_test, y_pred_default))"
   ]
  },
  {
   "cell_type": "code",
   "execution_count": 102,
   "metadata": {},
   "outputs": [
    {
     "data": {
      "text/plain": [
       "array([[7027,  635],\n",
       "       [ 126,  336]], dtype=int64)"
      ]
     },
     "execution_count": 102,
     "metadata": {},
     "output_type": "execute_result"
    }
   ],
   "source": [
    "confusion_matrix(y_test,y_pred_default)"
   ]
  },
  {
   "cell_type": "code",
   "execution_count": 103,
   "metadata": {},
   "outputs": [
    {
     "data": {
      "text/plain": [
       "0.9063269325455441"
      ]
     },
     "execution_count": 103,
     "metadata": {},
     "output_type": "execute_result"
    }
   ],
   "source": [
    "accuracy_score(y_test,y_pred_default)"
   ]
  },
  {
   "cell_type": "markdown",
   "metadata": {},
   "source": [
    "<b> Observations (using default parameters for Decision trees)</b><br>\n",
    "1. Features identified by Lasso are \n",
    "    ['arpu_6',\n",
    " 'arpu_7',\n",
    " 'onnet_mou_6',\n",
    " 'offnet_mou_8',\n",
    " 'roam_ic_mou_7',\n",
    " 'roam_ic_mou_8',\n",
    " 'roam_og_mou_7',\n",
    " 'roam_og_mou_8',\n",
    " 'loc_og_t2m_mou_8',\n",
    " 'loc_og_mou_8',\n",
    " 'std_og_t2m_mou_7',\n",
    " 'std_og_mou_6',\n",
    " 'spl_og_mou_8',\n",
    " 'total_og_mou_6',\n",
    " 'total_og_mou_7',\n",
    " 'total_og_mou_8',\n",
    " 'loc_ic_mou_8',\n",
    " 'std_ic_t2t_mou_6',\n",
    " 'total_ic_mou_7',\n",
    " 'total_ic_mou_8',\n",
    " 'spl_ic_mou_8',\n",
    " 'total_rech_num_8',\n",
    " 'last_day_rch_amt_7',\n",
    " 'last_day_rch_amt_8',\n",
    " 'monthly_2g_7',\n",
    " 'monthly_2g_8',\n",
    " 'sachet_3g_7',\n",
    " 'aon',\n",
    " 'night7_0.0',\n",
    " 'night9_0.0',\n",
    " 'fb6_1.0',\n",
    " 'fb7_1.0',\n",
    " 'fb9_1.0',\n",
    " 'churn',\n",
    " 'rech_days_remaining_6',\n",
    " 'rech_days_remaining_7']\n",
    "<br>\n",
    "2. The accuracy is around 86% with max depth as 5. <br>\n",
    "3. The accuracy of model is around 90% with max depth as 10."
   ]
  },
  {
   "cell_type": "markdown",
   "metadata": {},
   "source": [
    "<b> Building Predictive Models </b><br>\n",
    "Model 3 : Lasso + Random Forest"
   ]
  },
  {
   "cell_type": "code",
   "execution_count": 105,
   "metadata": {},
   "outputs": [],
   "source": [
    "telecom_rm = telecom_data_copy.copy()"
   ]
  },
  {
   "cell_type": "code",
   "execution_count": 106,
   "metadata": {},
   "outputs": [
    {
     "data": {
      "text/plain": [
       "(27078, 147)"
      ]
     },
     "execution_count": 106,
     "metadata": {},
     "output_type": "execute_result"
    }
   ],
   "source": [
    "#Dropping mobile number col\n",
    "telecom_rm.drop('mobile_number', axis=1, inplace=True)\n",
    "X = telecom_rm.drop(['churn'],axis=1)\n",
    "y = telecom_rm['churn']\n",
    "telecom_rm.shape"
   ]
  },
  {
   "cell_type": "markdown",
   "metadata": {},
   "source": [
    "Scaling and Normalization"
   ]
  },
  {
   "cell_type": "code",
   "execution_count": 107,
   "metadata": {},
   "outputs": [],
   "source": [
    "from sklearn import preprocessing\n",
    "from sklearn.preprocessing import StandardScaler\n",
    "\n",
    "\n",
    "scaler = preprocessing.StandardScaler().fit(X)\n",
    "\n",
    "X_scaled = scaler.transform(X)"
   ]
  },
  {
   "cell_type": "markdown",
   "metadata": {},
   "source": [
    "Splitting data"
   ]
  },
  {
   "cell_type": "code",
   "execution_count": 108,
   "metadata": {},
   "outputs": [],
   "source": [
    "from sklearn.model_selection import train_test_split\n",
    "\n",
    "X_train, X_test, y_train, y_test = train_test_split(X_scaled,y, train_size=0.7,test_size=0.3,random_state=42)"
   ]
  },
  {
   "cell_type": "markdown",
   "metadata": {},
   "source": [
    "Balancing with SMOTE"
   ]
  },
  {
   "cell_type": "code",
   "execution_count": 109,
   "metadata": {},
   "outputs": [
    {
     "data": {
      "text/plain": [
       "(35680, 146)"
      ]
     },
     "execution_count": 109,
     "metadata": {},
     "output_type": "execute_result"
    }
   ],
   "source": [
    "from imblearn.over_sampling import SMOTE\n",
    "sm = SMOTE(kind = \"regular\")\n",
    "X_train,y_train = sm.fit_sample(X_train,y_train)\n",
    "X_train.shape"
   ]
  },
  {
   "cell_type": "markdown",
   "metadata": {},
   "source": [
    "Lasso feature selection"
   ]
  },
  {
   "cell_type": "code",
   "execution_count": 110,
   "metadata": {},
   "outputs": [
    {
     "name": "stdout",
     "output_type": "stream",
     "text": [
      "[[ 0.00318619  0.03696271  0.          0.0243182   0.          0.\n",
      "   0.          0.         -0.0329979   0.          0.01474601  0.0068756\n",
      "   0.          0.02986168  0.03296496  0.          0.          0.\n",
      "   0.          0.         -0.08366042  0.          0.         -0.00468009\n",
      "   0.          0.          0.          0.          0.         -0.03722303\n",
      "   0.          0.          0.          0.          0.0156846   0.\n",
      "   0.          0.          0.          0.02602666  0.          0.\n",
      "   0.          0.          0.          0.          0.         -0.01785094\n",
      "   0.          0.00295196  0.          0.01571922  0.06590738 -0.24086374\n",
      "   0.          0.          0.          0.          0.          0.\n",
      "   0.          0.          0.          0.          0.         -0.07629087\n",
      "   0.01742569  0.          0.          0.          0.          0.\n",
      "   0.          0.          0.          0.          0.          0.\n",
      "   0.00767542  0.02113537 -0.20436372  0.          0.         -0.01696134\n",
      "   0.          0.          0.          0.          0.          0.\n",
      "   0.          0.         -0.04242839  0.          0.          0.\n",
      "   0.          0.          0.          0.         -0.00395337 -0.09511319\n",
      "   0.          0.          0.          0.          0.         -0.00153959\n",
      "   0.         -0.00355607 -0.0296605   0.          0.          0.\n",
      "   0.          0.          0.          0.          0.01176705  0.\n",
      "  -0.07356256  0.          0.          0.          0.          0.\n",
      "   0.01431529  0.          0.          0.         -0.24425635 -0.00055648\n",
      "   0.          0.00636308  0.          0.04287262  0.          0.\n",
      "   0.         -0.43098661  0.          0.          0.         -0.02980286\n",
      "  -0.01330047  0.15306247]]\n",
      "[-0.65052301]\n"
     ]
    }
   ],
   "source": [
    "from sklearn.svm import LinearSVC\n",
    "from sklearn.feature_selection import SelectFromModel\n",
    " \n",
    "lsvc = LinearSVC(C=0.001, penalty=\"l1\", dual=False).fit(X_train, y_train)\n",
    "model = SelectFromModel(lsvc, prefit=True)\n",
    "X_lasso = model.transform(X_train)\n",
    "supported_cols = model.get_support(indices=True)\n",
    "print(lsvc.coef_)\n",
    "print(lsvc.intercept_)"
   ]
  },
  {
   "cell_type": "code",
   "execution_count": 111,
   "metadata": {},
   "outputs": [
    {
     "data": {
      "text/plain": [
       "['arpu_6',\n",
       " 'arpu_7',\n",
       " 'onnet_mou_6',\n",
       " 'offnet_mou_8',\n",
       " 'roam_ic_mou_7',\n",
       " 'roam_ic_mou_8',\n",
       " 'roam_og_mou_7',\n",
       " 'roam_og_mou_8',\n",
       " 'loc_og_t2m_mou_8',\n",
       " 'loc_og_t2f_mou_8',\n",
       " 'loc_og_mou_8',\n",
       " 'std_og_t2m_mou_7',\n",
       " 'std_og_mou_6',\n",
       " 'spl_og_mou_8',\n",
       " 'og_others_7',\n",
       " 'total_og_mou_6',\n",
       " 'total_og_mou_7',\n",
       " 'total_og_mou_8',\n",
       " 'loc_ic_mou_8',\n",
       " 'std_ic_t2t_mou_6',\n",
       " 'total_ic_mou_6',\n",
       " 'total_ic_mou_7',\n",
       " 'total_ic_mou_8',\n",
       " 'spl_ic_mou_8',\n",
       " 'total_rech_num_8',\n",
       " 'last_day_rch_amt_7',\n",
       " 'last_day_rch_amt_8',\n",
       " 'vol_3g_mb_8',\n",
       " 'monthly_2g_7',\n",
       " 'monthly_2g_8',\n",
       " 'sachet_3g_7',\n",
       " 'aon',\n",
       " 'night7_0.0',\n",
       " 'night9_0.0',\n",
       " 'night9_1.0',\n",
       " 'fb6_1.0',\n",
       " 'fb7_1.0',\n",
       " 'fb9_1.0',\n",
       " 'churn',\n",
       " 'rech_days_remaining_6',\n",
       " 'rech_days_remaining_7']"
      ]
     },
     "execution_count": 111,
     "metadata": {},
     "output_type": "execute_result"
    }
   ],
   "source": [
    "#printing supported columns\n",
    "list(telecom_df.columns[supported_cols])"
   ]
  },
  {
   "cell_type": "code",
   "execution_count": 112,
   "metadata": {},
   "outputs": [
    {
     "data": {
      "text/plain": [
       "(35680, 41)"
      ]
     },
     "execution_count": 112,
     "metadata": {},
     "output_type": "execute_result"
    }
   ],
   "source": [
    "X_train = X_lasso\n",
    "X_train.shape"
   ]
  },
  {
   "cell_type": "markdown",
   "metadata": {},
   "source": [
    "Random Forest"
   ]
  },
  {
   "cell_type": "code",
   "execution_count": 113,
   "metadata": {},
   "outputs": [
    {
     "name": "stderr",
     "output_type": "stream",
     "text": [
      "c:\\users\\shreyash\\appdata\\local\\programs\\python\\python37\\lib\\site-packages\\sklearn\\ensemble\\forest.py:245: FutureWarning: The default value of n_estimators will change from 10 in version 0.20 to 100 in 0.22.\n",
      "  \"10 in version 0.20 to 100 in 0.22.\", FutureWarning)\n"
     ]
    },
    {
     "data": {
      "text/plain": [
       "RandomForestClassifier(bootstrap=True, class_weight=None, criterion='gini',\n",
       "                       max_depth=None, max_features='auto', max_leaf_nodes=None,\n",
       "                       min_impurity_decrease=0.0, min_impurity_split=None,\n",
       "                       min_samples_leaf=1, min_samples_split=2,\n",
       "                       min_weight_fraction_leaf=0.0, n_estimators=10,\n",
       "                       n_jobs=None, oob_score=False, random_state=None,\n",
       "                       verbose=0, warm_start=False)"
      ]
     },
     "execution_count": 113,
     "metadata": {},
     "output_type": "execute_result"
    }
   ],
   "source": [
    "from sklearn.ensemble import RandomForestClassifier\n",
    "\n",
    "# Running the random forest with default parameters.\n",
    "rfc = RandomForestClassifier()\n",
    "rfc.fit(X_train, y_train)"
   ]
  },
  {
   "cell_type": "code",
   "execution_count": 114,
   "metadata": {},
   "outputs": [],
   "source": [
    "X_test = pd.DataFrame(data=X_test).loc[:, supported_cols]\n",
    "\n",
    "predictions = rfc.predict(X_test)"
   ]
  },
  {
   "cell_type": "code",
   "execution_count": 115,
   "metadata": {},
   "outputs": [
    {
     "name": "stdout",
     "output_type": "stream",
     "text": [
      "              precision    recall  f1-score   support\n",
      "\n",
      "           0       0.98      0.96      0.97      7662\n",
      "           1       0.48      0.60      0.53       462\n",
      "\n",
      "    accuracy                           0.94      8124\n",
      "   macro avg       0.73      0.78      0.75      8124\n",
      "weighted avg       0.95      0.94      0.94      8124\n",
      "\n"
     ]
    }
   ],
   "source": [
    "from sklearn.metrics import classification_report,confusion_matrix, accuracy_score\n",
    "# Let's check the report of our default model\n",
    "print(classification_report(y_test,predictions))"
   ]
  },
  {
   "cell_type": "code",
   "execution_count": 116,
   "metadata": {},
   "outputs": [
    {
     "name": "stdout",
     "output_type": "stream",
     "text": [
      "[[7360  302]\n",
      " [ 186  276]]\n"
     ]
    }
   ],
   "source": [
    "print(confusion_matrix(y_test, predictions))"
   ]
  },
  {
   "cell_type": "code",
   "execution_count": 117,
   "metadata": {},
   "outputs": [
    {
     "data": {
      "text/plain": [
       "0.9399310684391925"
      ]
     },
     "execution_count": 117,
     "metadata": {},
     "output_type": "execute_result"
    }
   ],
   "source": [
    "accuracy_score(y_test, predictions)"
   ]
  },
  {
   "cell_type": "markdown",
   "metadata": {},
   "source": [
    "<b> Observations (using default parameters for Random Forest)</b><br>\n",
    "1. Features identified by Lasso are \n",
    "    ['arpu_6',\n",
    " 'arpu_7',\n",
    " 'onnet_mou_6',\n",
    " 'offnet_mou_8',\n",
    " 'roam_ic_mou_7',\n",
    " 'roam_ic_mou_8',\n",
    " 'roam_og_mou_7',\n",
    " 'roam_og_mou_8',\n",
    " 'loc_og_t2m_mou_8',\n",
    " 'loc_og_mou_8',\n",
    " 'std_og_t2m_mou_7',\n",
    " 'std_og_mou_6',\n",
    " 'spl_og_mou_8',\n",
    " 'total_og_mou_6',\n",
    " 'total_og_mou_7',\n",
    " 'total_og_mou_8',\n",
    " 'loc_ic_mou_8',\n",
    " 'std_ic_t2t_mou_6',\n",
    " 'total_ic_mou_7',\n",
    " 'total_ic_mou_8',\n",
    " 'spl_ic_mou_8',\n",
    " 'total_rech_num_8',\n",
    " 'last_day_rch_amt_7',\n",
    " 'last_day_rch_amt_8',\n",
    " 'monthly_2g_7',\n",
    " 'monthly_2g_8',\n",
    " 'sachet_3g_7',\n",
    " 'aon',\n",
    " 'night7_0.0',\n",
    " 'night9_0.0',\n",
    " 'fb6_1.0',\n",
    " 'fb7_1.0',\n",
    " 'fb9_1.0',\n",
    " 'churn',\n",
    " 'rech_days_remaining_6',\n",
    " 'rech_days_remaining_7']\n",
    "<br>\n",
    "2. The accuracy is around 94%. <br>\n"
   ]
  },
  {
   "cell_type": "code",
   "execution_count": null,
   "metadata": {},
   "outputs": [],
   "source": []
  }
 ],
 "metadata": {
  "kernelspec": {
   "display_name": "Python 3",
   "language": "python",
   "name": "python3"
  },
  "language_info": {
   "codemirror_mode": {
    "name": "ipython",
    "version": 3
   },
   "file_extension": ".py",
   "mimetype": "text/x-python",
   "name": "python",
   "nbconvert_exporter": "python",
   "pygments_lexer": "ipython3",
   "version": "3.7.0"
  }
 },
 "nbformat": 4,
 "nbformat_minor": 2
}
